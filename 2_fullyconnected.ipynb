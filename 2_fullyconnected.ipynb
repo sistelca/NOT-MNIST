{
  "nbformat": 4,
  "nbformat_minor": 0,
  "metadata": {
    "colab": {
      "name": "2_fullyconnected",
      "version": "0.3.2",
      "provenance": [],
      "collapsed_sections": [],
      "include_colab_link": true
    },
    "kernelspec": {
      "name": "python3",
      "display_name": "Python 3"
    }
  },
  "cells": [
    {
      "cell_type": "markdown",
      "metadata": {
        "id": "view-in-github",
        "colab_type": "text"
      },
      "source": [
        "<a href=\"https://colab.research.google.com/github/sistelca/NOT-MNIST/blob/master/2_fullyconnected.ipynb\" target=\"_parent\"><img src=\"https://colab.research.google.com/assets/colab-badge.svg\" alt=\"Open In Colab\"/></a>"
      ]
    },
    {
      "metadata": {
        "id": "KnIQUQBd2z0A",
        "colab_type": "code",
        "outputId": "94959605-bf22-4ed7-9e83-9cc5a5919054",
        "colab": {
          "base_uri": "https://localhost:8080/",
          "height": 122
        }
      },
      "cell_type": "code",
      "source": [
        "# These are all the modules we'll be using later. Make sure you can import them\n",
        "# before proceeding further.\n",
        "from __future__ import print_function\n",
        "import numpy as np\n",
        "import tensorflow as tf\n",
        "from six.moves import cPickle as pickle\n",
        "from six.moves import range\n",
        "from google.colab import drive\n",
        "drive.mount('/content/gdrive')\n",
        "\n"
      ],
      "execution_count": 1,
      "outputs": [
        {
          "output_type": "stream",
          "text": [
            "Go to this URL in a browser: https://accounts.google.com/o/oauth2/auth?client_id=947318989803-6bn6qk8qdgf4n4g3pfee6491hc0brc4i.apps.googleusercontent.com&redirect_uri=urn%3Aietf%3Awg%3Aoauth%3A2.0%3Aoob&scope=email%20https%3A%2F%2Fwww.googleapis.com%2Fauth%2Fdocs.test%20https%3A%2F%2Fwww.googleapis.com%2Fauth%2Fdrive%20https%3A%2F%2Fwww.googleapis.com%2Fauth%2Fdrive.photos.readonly%20https%3A%2F%2Fwww.googleapis.com%2Fauth%2Fpeopleapi.readonly&response_type=code\n",
            "\n",
            "Enter your authorization code:\n",
            "··········\n",
            "Mounted at /content/gdrive\n"
          ],
          "name": "stdout"
        }
      ]
    },
    {
      "metadata": {
        "id": "-gEiBftw5wi2",
        "colab_type": "code",
        "colab": {}
      },
      "cell_type": "code",
      "source": [
        "# corre solo para descomprimir la primera vez\n",
        "\n",
        "from zipfile import ZipFile\n",
        "\n",
        "filename = \"/content/gdrive/My Drive/curso_udacity/notMNIST_nube.zip\"\n",
        "\n",
        "\t\n",
        "with ZipFile(filename) as zipObj:\n",
        "  # Extract all the contents of zip file in current directory\n",
        "  zipObj.extractall(\"/content/gdrive/My Drive/curso_udacity/\")\n"
      ],
      "execution_count": 0,
      "outputs": []
    },
    {
      "metadata": {
        "id": "FRWbDTTHBUrt",
        "colab_type": "code",
        "outputId": "1227747e-5cf1-4c1e-cd81-026eb378d84e",
        "colab": {
          "base_uri": "https://localhost:8080/",
          "height": 68
        }
      },
      "cell_type": "code",
      "source": [
        "pickle_file = '/content/gdrive/My Drive/curso_udacity//notMNIST_nube.pickle'\n",
        "\n",
        "with open(pickle_file, 'rb') as f:\n",
        "  save = pickle.load(f)\n",
        "  train_dataset = save['train_dataset']\n",
        "  train_labels = save['train_labels']\n",
        "  valid_dataset = save['valid_dataset']\n",
        "  valid_labels = save['valid_labels']\n",
        "  test_dataset = save['test_dataset']\n",
        "  test_labels = save['test_labels']\n",
        "  del save  # hint to help gc free up memory\n",
        "  print('Training set', train_dataset.shape, train_labels.shape)\n",
        "  print('Validation set', valid_dataset.shape, valid_labels.shape)\n",
        "  print('Test set', test_dataset.shape, test_labels.shape)\n"
      ],
      "execution_count": 2,
      "outputs": [
        {
          "output_type": "stream",
          "text": [
            "Training set (10000, 784) (10000, 10)\n",
            "Validation set (10000, 784) (10000, 10)\n",
            "Test set (10000, 784) (10000, 10)\n"
          ],
          "name": "stdout"
        }
      ]
    },
    {
      "metadata": {
        "id": "oeMr9V33DooV",
        "colab_type": "code",
        "outputId": "19873d4a-de49-4a8e-e4ab-eff2f3a0334f",
        "colab": {
          "base_uri": "https://localhost:8080/",
          "height": 173
        }
      },
      "cell_type": "code",
      "source": [
        "# With gradient descent training, even this much data is prohibitive.\n",
        "# Subset the training data for faster turnaround.\n",
        "image_size = 28\n",
        "num_labels = 10\n",
        "\n",
        "graph = tf.Graph()\n",
        "with graph.as_default():\n",
        "\n",
        "  # Input data.\n",
        "  # Load the training, validation and test data into constants that are\n",
        "  # attached to the graph.\n",
        "  tf_train_dataset = tf.constant(train_dataset)\n",
        "  tf_train_labels = tf.constant(train_labels)\n",
        "  tf_valid_dataset = tf.constant(valid_dataset)\n",
        "  tf_test_dataset = tf.constant(test_dataset)\n",
        "  \n",
        "  # Variables.\n",
        "  # These are the parameters that we are going to be training. The weight\n",
        "  # matrix will be initialized using random values following a (truncated)\n",
        "  # normal distribution. The biases get initialized to zero.\n",
        "  weights = tf.Variable(\n",
        "    tf.truncated_normal([image_size * image_size, num_labels]))\n",
        "  biases = tf.Variable(tf.zeros([num_labels]))\n",
        "  \n",
        "  # Training computation.\n",
        "  # We multiply the inputs with the weight matrix, and add biases. We compute\n",
        "  # the softmax and cross-entropy (it's one operation in TensorFlow, because\n",
        "  # it's very common, and it can be optimized). We take the average of this\n",
        "  # cross-entropy across all training examples: that's our loss.\n",
        "  logits = tf.matmul(tf_train_dataset, weights) + biases\n",
        "  loss = tf.reduce_mean(\n",
        "    tf.nn.softmax_cross_entropy_with_logits(labels=tf_train_labels, logits=logits))\n",
        "  \n",
        "  # Optimizer.\n",
        "  # We are going to find the minimum of this loss using gradient descent.\n",
        "  optimizer = tf.train.GradientDescentOptimizer(0.5).minimize(loss)\n",
        "  \n",
        "  # Predictions for the training, validation, and test data.\n",
        "  # These are not part of training, but merely here so that we can report\n",
        "  # accuracy figures as we train.\n",
        "  train_prediction = tf.nn.softmax(logits)\n",
        "  valid_prediction = tf.nn.softmax(\n",
        "    tf.matmul(tf_valid_dataset, weights) + biases)\n",
        "  test_prediction = tf.nn.softmax(tf.matmul(tf_test_dataset, weights) + biases)"
      ],
      "execution_count": 0,
      "outputs": [
        {
          "output_type": "stream",
          "text": [
            "WARNING:tensorflow:From <ipython-input-4-fb7e0c58e84b>:30: softmax_cross_entropy_with_logits (from tensorflow.python.ops.nn_ops) is deprecated and will be removed in a future version.\n",
            "Instructions for updating:\n",
            "\n",
            "Future major versions of TensorFlow will allow gradients to flow\n",
            "into the labels input on backprop by default.\n",
            "\n",
            "See `tf.nn.softmax_cross_entropy_with_logits_v2`.\n",
            "\n"
          ],
          "name": "stdout"
        }
      ]
    },
    {
      "metadata": {
        "id": "XjNwDHshDx7u",
        "colab_type": "code",
        "outputId": "19e9f6e9-50a0-4abf-9076-a57b9cdad477",
        "colab": {
          "base_uri": "https://localhost:8080/",
          "height": 510
        }
      },
      "cell_type": "code",
      "source": [
        "num_steps = 801\n",
        "\n",
        "def accuracy(predictions, labels):\n",
        "  return (100.0 * np.sum(np.argmax(predictions, 1) == np.argmax(labels, 1))\n",
        "          / predictions.shape[0])\n",
        "\n",
        "with tf.Session(graph=graph) as session:\n",
        "  # This is a one-time operation which ensures the parameters get initialized as\n",
        "  # we described in the graph: random weights for the matrix, zeros for the\n",
        "  # biases. \n",
        "  tf.global_variables_initializer().run()\n",
        "  print('Initialized')\n",
        "  for step in range(num_steps):\n",
        "    # Run the computations. We tell .run() that we want to run the optimizer,\n",
        "    # and get the loss value and the training predictions returned as numpy\n",
        "    # arrays.\n",
        "    _, l, predictions = session.run([optimizer, loss, train_prediction])\n",
        "    if (step % 100 == 0):\n",
        "      print('Loss at step %d: %f' % (step, l))\n",
        "      print('Training accuracy: %.1f%%' % accuracy(\n",
        "        predictions, train_labels))\n",
        "      # Calling .eval() on valid_prediction is basically like calling run(), but\n",
        "      # just to get that one numpy array. Note that it recomputes all its graph\n",
        "      # dependencies.\n",
        "      print('Validation accuracy: %.1f%%' % accuracy(\n",
        "        valid_prediction.eval(), valid_labels))\n",
        "  print('Test accuracy: %.1f%%' % accuracy(test_prediction.eval(), test_labels))"
      ],
      "execution_count": 0,
      "outputs": [
        {
          "output_type": "stream",
          "text": [
            "Initialized\n",
            "Loss at step 0: 18.707222\n",
            "Training accuracy: 9.3%\n",
            "Validation accuracy: 10.3%\n",
            "Loss at step 100: 2.276988\n",
            "Training accuracy: 72.6%\n",
            "Validation accuracy: 71.3%\n",
            "Loss at step 200: 1.823069\n",
            "Training accuracy: 75.1%\n",
            "Validation accuracy: 74.1%\n",
            "Loss at step 300: 1.584183\n",
            "Training accuracy: 76.3%\n",
            "Validation accuracy: 74.9%\n",
            "Loss at step 400: 1.425965\n",
            "Training accuracy: 77.4%\n",
            "Validation accuracy: 75.3%\n",
            "Loss at step 500: 1.308938\n",
            "Training accuracy: 78.0%\n",
            "Validation accuracy: 75.6%\n",
            "Loss at step 600: 1.216931\n",
            "Training accuracy: 78.6%\n",
            "Validation accuracy: 75.8%\n",
            "Loss at step 700: 1.141590\n",
            "Training accuracy: 79.1%\n",
            "Validation accuracy: 75.9%\n",
            "Loss at step 800: 1.078250\n",
            "Training accuracy: 79.7%\n",
            "Validation accuracy: 76.2%\n",
            "Test accuracy: 83.8%\n"
          ],
          "name": "stdout"
        }
      ]
    },
    {
      "metadata": {
        "id": "4YCC9qCn75pd",
        "colab_type": "text"
      },
      "cell_type": "markdown",
      "source": [
        "Pasemos ahora al entrenamientoSGD, que es mucho más rápido.\n",
        "\n",
        "El gráfo será similar, excepto que en lugar de mantener todos los datos de entrenamiento en un nodo constante, creamos un nodo marcador de posición que será alimentado con datos reales en cada llamada de session.run()."
      ]
    },
    {
      "metadata": {
        "id": "84B-4O5O2rjt",
        "colab_type": "code",
        "colab": {}
      },
      "cell_type": "code",
      "source": [
        "\n",
        "batch_size = 128\n",
        "\n",
        "graph = tf.Graph()\n",
        "with graph.as_default():\n",
        "\n",
        "  # Input data. For the training data, we use a placeholder that will be fed\n",
        "  # at run time with a training minibatch.\n",
        "  tf_train_dataset = tf.placeholder(tf.float32,\n",
        "                                    shape=(batch_size, image_size * image_size))\n",
        "  tf_train_labels = tf.placeholder(tf.float32, shape=(batch_size, num_labels))\n",
        "  tf_valid_dataset = tf.constant(valid_dataset)\n",
        "  tf_test_dataset = tf.constant(test_dataset)\n",
        "  \n",
        "  # Variables.\n",
        "  weights = tf.Variable(\n",
        "    tf.truncated_normal([image_size * image_size, num_labels]))\n",
        "  biases = tf.Variable(tf.zeros([num_labels]))\n",
        "  \n",
        "  # Training computation.\n",
        "  logits = tf.matmul(tf_train_dataset, weights) + biases\n",
        "  loss = tf.reduce_mean(\n",
        "    tf.nn.softmax_cross_entropy_with_logits_v2(labels=tf_train_labels, logits=logits))\n",
        "  \n",
        "  # Optimizer.\n",
        "  optimizer = tf.train.GradientDescentOptimizer(0.5).minimize(loss)\n",
        "  \n",
        "  # Predictions for the training, validation, and test data.\n",
        "  train_prediction = tf.nn.softmax(logits)\n",
        "  valid_prediction = tf.nn.softmax(\n",
        "    tf.matmul(tf_valid_dataset, weights) + biases)\n",
        "  test_prediction = tf.nn.softmax(tf.matmul(tf_test_dataset, weights) + biases)"
      ],
      "execution_count": 0,
      "outputs": []
    },
    {
      "metadata": {
        "id": "H09JAbft48Zm",
        "colab_type": "code",
        "outputId": "d58d979b-d3a8-422b-fa8c-3db1c6ffa3ef",
        "colab": {
          "base_uri": "https://localhost:8080/",
          "height": 408
        }
      },
      "cell_type": "code",
      "source": [
        "num_steps = 3001\n",
        "\n",
        "with tf.Session(graph=graph) as session:\n",
        "  tf.global_variables_initializer().run()\n",
        "  print(\"Initialized\")\n",
        "  for step in range(num_steps):\n",
        "    # Pick an offset within the training data, which has been randomized.\n",
        "    # Note: we could use better randomization across epochs.\n",
        "    offset = (step * batch_size) % (train_labels.shape[0] - batch_size)\n",
        "    # Generate a minibatch.\n",
        "    batch_data = train_dataset[offset:(offset + batch_size), :]\n",
        "    batch_labels = train_labels[offset:(offset + batch_size), :]\n",
        "    # Prepare a dictionary telling the session where to feed the minibatch.\n",
        "    # The key of the dictionary is the placeholder node of the graph to be fed,\n",
        "    # and the value is the numpy array to feed to it.\n",
        "    feed_dict = {tf_train_dataset : batch_data, tf_train_labels : batch_labels}\n",
        "    _, l, predictions = session.run(\n",
        "      [optimizer, loss, train_prediction], feed_dict=feed_dict)\n",
        "    if (step % 500 == 0):\n",
        "      print(\"Minibatch loss at step %d: %f\" % (step, l))\n",
        "      print(\"Minibatch accuracy: %.1f%%\" % accuracy(predictions, batch_labels))\n",
        "      print(\"Validation accuracy: %.1f%%\" % accuracy(\n",
        "        valid_prediction.eval(), valid_labels))\n",
        "  print(\"Test accuracy: %.1f%%\" % accuracy(test_prediction.eval(), test_labels))"
      ],
      "execution_count": 0,
      "outputs": [
        {
          "output_type": "stream",
          "text": [
            "Initialized\n",
            "Minibatch loss at step 0: 15.587482\n",
            "Minibatch accuracy: 7.8%\n",
            "Validation accuracy: 12.6%\n",
            "Minibatch loss at step 500: 1.561721\n",
            "Minibatch accuracy: 77.3%\n",
            "Validation accuracy: 75.4%\n",
            "Minibatch loss at step 1000: 1.195530\n",
            "Minibatch accuracy: 81.2%\n",
            "Validation accuracy: 76.0%\n",
            "Minibatch loss at step 1500: 0.680323\n",
            "Minibatch accuracy: 82.0%\n",
            "Validation accuracy: 76.2%\n",
            "Minibatch loss at step 2000: 0.947160\n",
            "Minibatch accuracy: 79.7%\n",
            "Validation accuracy: 76.5%\n",
            "Minibatch loss at step 2500: 0.762678\n",
            "Minibatch accuracy: 81.2%\n",
            "Validation accuracy: 76.4%\n",
            "Minibatch loss at step 3000: 0.652506\n",
            "Minibatch accuracy: 84.4%\n",
            "Validation accuracy: 77.1%\n",
            "Test accuracy: 84.5%\n"
          ],
          "name": "stdout"
        }
      ]
    },
    {
      "metadata": {
        "id": "ljDoLkPX5sHV",
        "colab_type": "text"
      },
      "cell_type": "markdown",
      "source": [
        "# Problema\n",
        "\n",
        "Convierta el ejemplo de regresión logística con SGD en una red neuronal de una capa oculta con unidades lineales rectificadas nn.relu() y 1024 nodos ocultos. Este modelo debería mejorar su validación / precisión de la prueba"
      ]
    },
    {
      "metadata": {
        "id": "vW5AKO6T6NIH",
        "colab_type": "code",
        "colab": {
          "base_uri": "https://localhost:8080/",
          "height": 88
        },
        "outputId": "b16b6078-40de-4ca8-b78f-ed5918a04f66"
      },
      "cell_type": "code",
      "source": [
        "batch_size = 128\n",
        "hidden_nodes = 1024\n",
        "image_size = 28\n",
        "num_labels = 10\n",
        "\n",
        "graph = tf.Graph()\n",
        "with graph.as_default():\n",
        "\n",
        "    # Input data. For the training data, we use a placeholder that will be fed\n",
        "    # at run time with a training minibatch.\n",
        "    tf_train_dataset = tf.placeholder(tf.float32,\n",
        "                                      shape=(batch_size, image_size * image_size))\n",
        "    tf_train_labels = tf.placeholder(tf.float32, shape=(batch_size, num_labels))\n",
        "\n",
        "    tf_valid_dataset = tf.constant(valid_dataset)\n",
        "    tf_test_dataset = tf.constant(test_dataset)\n",
        "    \n",
        "    # Variables\n",
        "    \n",
        "    # Capa 1\n",
        "    w_1 = tf.Variable(tf.truncated_normal([image_size * image_size, hidden_nodes]))\n",
        "    b_1 = tf.Variable(tf.zeros([hidden_nodes]))\n",
        "    \n",
        "    # Capa 2 de salida\n",
        "    w_2 = tf.Variable(tf.truncated_normal([hidden_nodes, num_labels]))\n",
        "    b_2 = tf.Variable(tf.zeros([num_labels]))\n",
        "    \n",
        "    def NN(x): # neurona\n",
        "        \"\"\"\n",
        "            x: matriz\n",
        "               su forma debe ser (m, 784)\n",
        "\n",
        "            regresa la activacion de la capa de salida\n",
        "            matriz de (m, 10)\n",
        "        \"\"\"\n",
        "\n",
        "        # Capa oculta 1\n",
        "        z_1 = tf.matmul(x,w_1) + b_1 # lineal\n",
        "        a_1 = tf.nn.relu(z_1)\t# activacion\n",
        "\n",
        "        # Capa 2 salida\n",
        "        z_2 = tf.matmul(a_1,w_2) + b_2\n",
        "\n",
        "        return z_2\n",
        "    \n",
        "    # Training computation.\n",
        "    \n",
        "    y_ = NN(tf_train_dataset)\n",
        "    \n",
        "    # funcion de costo\n",
        "    loss = tf.reduce_mean(\n",
        "        tf.nn.softmax_cross_entropy_with_logits_v2(labels=tf_train_labels, logits=y_))\n",
        "    \n",
        "    # Optimizador.\n",
        "    optim = tf.train.GradientDescentOptimizer(0.5).minimize(loss)\n",
        "    \n",
        "    \n",
        "    # Predictions for the training, validation, and test data.\n",
        "    train_prediction = tf.nn.softmax(y_)\n",
        "    valid_prediction = tf.nn.softmax(NN(tf_valid_dataset))\n",
        "    test_prediction = tf.nn.softmax(NN(tf_test_dataset))"
      ],
      "execution_count": 5,
      "outputs": [
        {
          "output_type": "stream",
          "text": [
            "WARNING:tensorflow:From /usr/local/lib/python3.6/dist-packages/tensorflow/python/framework/op_def_library.py:263: colocate_with (from tensorflow.python.framework.ops) is deprecated and will be removed in a future version.\n",
            "Instructions for updating:\n",
            "Colocations handled automatically by placer.\n"
          ],
          "name": "stdout"
        }
      ]
    },
    {
      "metadata": {
        "id": "LTMCHD2wb7Fu",
        "colab_type": "code",
        "colab": {
          "base_uri": "https://localhost:8080/",
          "height": 408
        },
        "outputId": "149ce140-cdd4-477c-e701-abaa64ba6fa9"
      },
      "cell_type": "code",
      "source": [
        "def accuracy(predictions, labels):\n",
        "  return (100.0 * np.sum(np.argmax(predictions, 1) == np.argmax(labels, 1))\n",
        "          / predictions.shape[0])\n",
        "\n",
        "num_steps = 3001\n",
        "\n",
        "with tf.Session(graph=graph) as session:\n",
        "    tf.global_variables_initializer().run()\n",
        "    print(\"Initialized\")\n",
        "    \n",
        "    for step in range(num_steps):\n",
        "        # Pick an offset within the training data, which has been randomized.\n",
        "        # Note: we could use better randomization across epochs.\n",
        "        offset = (step * batch_size) % (train_labels.shape[0] - batch_size)\n",
        "        # Generate a minibatch.\n",
        "        batch_data = train_dataset[offset:(offset + batch_size), :]\n",
        "        batch_labels = train_labels[offset:(offset + batch_size), :]\n",
        "        # Prepare a dictionary telling the session where to feed the minibatch.\n",
        "        # The key of the dictionary is the placeholder node of the graph to be fed,\n",
        "        # and the value is the numpy array to feed to it.\n",
        "        feed_dict = {tf_train_dataset : batch_data, tf_train_labels : batch_labels}\n",
        "        _, l, predictions = session.run([optim, loss, y_], feed_dict=feed_dict)\n",
        "        if (step % 500 == 0):\n",
        "            print(\"Minibatch loss at step %d: %f\" % (step, l))\n",
        "            print(\"Minibatch accuracy: %.1f%%\" % accuracy(predictions, batch_labels))\n",
        "            print(\"Validation accuracy: %.1f%%\" % accuracy(\n",
        "            valid_prediction.eval(), valid_labels))\n",
        "    print(\"Test presicion Global: %.1f%%\" % accuracy(test_prediction.eval(), test_labels))"
      ],
      "execution_count": 7,
      "outputs": [
        {
          "output_type": "stream",
          "text": [
            "Initialized\n",
            "Minibatch loss at step 0: 385.027832\n",
            "Minibatch accuracy: 5.5%\n",
            "Validation accuracy: 27.0%\n",
            "Minibatch loss at step 500: 0.921902\n",
            "Minibatch accuracy: 97.7%\n",
            "Validation accuracy: 81.4%\n",
            "Minibatch loss at step 1000: 0.385438\n",
            "Minibatch accuracy: 98.4%\n",
            "Validation accuracy: 82.5%\n",
            "Minibatch loss at step 1500: 0.000308\n",
            "Minibatch accuracy: 100.0%\n",
            "Validation accuracy: 82.3%\n",
            "Minibatch loss at step 2000: 0.000000\n",
            "Minibatch accuracy: 100.0%\n",
            "Validation accuracy: 82.9%\n",
            "Minibatch loss at step 2500: 0.000044\n",
            "Minibatch accuracy: 100.0%\n",
            "Validation accuracy: 82.7%\n",
            "Minibatch loss at step 3000: 0.000000\n",
            "Minibatch accuracy: 100.0%\n",
            "Validation accuracy: 82.9%\n",
            "Test presicion Global: 89.8%\n"
          ],
          "name": "stdout"
        }
      ]
    }
  ]
}