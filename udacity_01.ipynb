{
 "cells": [
  {
   "cell_type": "code",
   "execution_count": null,
   "metadata": {},
   "outputs": [],
   "source": [
    "# These are all the modules we'll be using later. Make sure you can import them\n",
    "# before proceeding further.\n",
    "from __future__ import print_function\n",
    "import imageio\n",
    "import matplotlib.pyplot as plt\n",
    "import numpy as np\n",
    "import os\n",
    "import sys\n",
    "import tarfile\n",
    "from IPython.display import display, Image\n",
    "from sklearn.linear_model import LogisticRegression\n",
    "from six.moves.urllib.request import urlretrieve\n",
    "from six.moves import cPickle as pickle\n",
    "\n",
    "# Config the matplotlib backend as plotting inline in IPython\n",
    "%matplotlib inline"
   ]
  },
  {
   "cell_type": "code",
   "execution_count": null,
   "metadata": {},
   "outputs": [],
   "source": [
    "data_root = 'C:/Users/Luis/Documents/Ciencia de Datos/DatasetDeeplearnig/'\n",
    "\n",
    "train_folders = os.listdir(data_root+'notMNIST_large/')\n",
    "test_folders =  os.listdir(data_root+'notMNIST_small/')\n",
    "\n",
    "print(train_folders)\n"
   ]
  },
  {
   "cell_type": "markdown",
   "metadata": {},
   "source": [
    "# Problem 1 \n",
    "Let's take a peek at some of the data to make sure it looks sensible. Each exemplar should be an image of a character A through J rendered in a different font. Display a sample of the images that we just downloaded. Hint: you can use the package IPython.display."
   ]
  },
  {
   "cell_type": "code",
   "execution_count": null,
   "metadata": {},
   "outputs": [],
   "source": [
    "def muestra_imagen(nombreImagen):\n",
    "    display(Image(filename=nombreImagen))\n",
    "\n",
    "def ta_muestra(carpetas, tmuestra):\n",
    "    tmuestra_ini = int(tmuestra/len(carpetas)) # distribucion uniforme de muestras en carpetas\n",
    "    estratos = len(carpetas)\n",
    "    muestra = tmuestra-((estratos-1)*tmuestra_ini)\n",
    "    return muestra\n",
    "    \n",
    "\n",
    "def list_imagens(carpetas, tmuestra):\n",
    "    num_image_file = []\n",
    "\n",
    "    for carpeta in carpetas:\n",
    "        cant_imgs = sum([len(files) for r, d, files in os.walk(data_root+'notMNIST_large/'+carpeta+'/')])\n",
    "        num_image_file.append({'nombre': data_root+'notMNIST_large/'+carpeta+'/',\n",
    "                               'cantidad': cant_imgs, 'muestra': ta_muestra(carpetas, tmuestra)})\n",
    "        \n",
    "        print(data_root+'notMNIST_large/'+carpeta+'/')\n",
    "        print(cant_imgs)\n",
    "\n",
    "    return num_image_file\n",
    "\n",
    "\n"
   ]
  },
  {
   "cell_type": "code",
   "execution_count": null,
   "metadata": {},
   "outputs": [],
   "source": [
    "sample_train = 30\n",
    "sample_test = 15\n",
    "\n",
    "\n",
    "lista_de_todas_imgs_train = list_imagens(train_folders, sample_train)\n",
    "\n",
    "\n",
    "lista_de_todas_imgs_test  = list_imagens(test_folders, sample_test)"
   ]
  },
  {
   "cell_type": "code",
   "execution_count": null,
   "metadata": {},
   "outputs": [],
   "source": [
    "# imprime muestra de imagenes de entrenamiento\n",
    "\n",
    "for carpeta in lista_de_todas_imgs_train:\n",
    "    muestras = np.sort(np.random.randint(0, carpeta['cantidad'], size= carpeta['muestra']))\n",
    "\n",
    "    arch_imagen = [image_files for r, d, image_files in os.walk(carpeta['nombre'])]\n",
    "    arch_imagen = arch_imagen[0]\n",
    "    \n",
    "    print(carpeta['nombre']+'\\n')\n",
    "    \n",
    "    for muestra in muestras:\n",
    "#        print(arch_imagen[muestra])\n",
    "        muestra_imagen(carpeta['nombre']+arch_imagen[muestra])\n",
    "       \n",
    "print('xd')\n",
    "\n",
    "            \n"
   ]
  },
  {
   "cell_type": "markdown",
   "metadata": {},
   "source": [
    "Now let's load the data in a more manageable format. Since, depending on your computer setup you might not be able to fit it all in memory, we'll load each class into a separate dataset, store them on disk and curate them independently. Later we'll merge them into a single dataset of manageable size.\n",
    "\n",
    "We'll convert the entire dataset into a 3D array (image index, x, y) of floating point values, normalized to have approximately zero mean and standard deviation ~0.5 to make training easier down the road.\n",
    "\n",
    "A few images might not be readable, we'll just skip them."
   ]
  },
  {
   "cell_type": "code",
   "execution_count": null,
   "metadata": {},
   "outputs": [],
   "source": [
    "image_size = 28  # Pixel width and height.\n",
    "pixel_depth = 255.0  # Number of levels per pixel.\n",
    "\n",
    "def load_letter(folder, min_num_images):\n",
    "  \"\"\"Load the data for a single letter label.\"\"\"\n",
    "  image_files = os.listdir(folder)\n",
    "  dataset = np.ndarray(shape=(len(image_files), image_size, image_size),\n",
    "                         dtype=np.float32)\n",
    "  print(folder)\n",
    "  num_images = 0\n",
    "  for image in image_files:\n",
    "    image_file = os.path.join(folder, image)\n",
    "    try:\n",
    "      image_data = (imageio.imread(image_file).astype(float) - \n",
    "                    pixel_depth / 2) / pixel_depth\n",
    "      if image_data.shape != (image_size, image_size):\n",
    "        raise Exception('Unexpected image shape: %s' % str(image_data.shape))\n",
    "      dataset[num_images, :, :] = image_data\n",
    "      num_images = num_images + 1\n",
    "    except (IOError, ValueError) as e:\n",
    "      print('Could not read:', image_file, ':', e, '- it\\'s ok, skipping.')\n",
    "    \n",
    "  dataset = dataset[0:num_images, :, :]\n",
    "  if num_images < min_num_images:\n",
    "    raise Exception('Many fewer images than expected: %d < %d' %\n",
    "                    (num_images, min_num_images))\n",
    "    \n",
    "  print('Full dataset tensor:', dataset.shape)\n",
    "  print('Mean:', np.mean(dataset))\n",
    "  print('Standard deviation:', np.std(dataset))\n",
    "  return dataset\n",
    "        \n",
    "def maybe_pickle(raiz, data_folders, min_num_images_per_class, force=False):\n",
    "  dataset_names = []\n",
    "  for folder in data_folders:\n",
    "    set_filename = raiz + folder + '.pickle'\n",
    "    dataset_names.append(set_filename)\n",
    "    if os.path.exists(set_filename) and not force:\n",
    "      # You may override by setting force=True.\n",
    "      print('%s already present - Skipping pickling.' % set_filename)\n",
    "    else:\n",
    "      print('Pickling %s.' % set_filename)\n",
    "      dataset = load_letter(raiz+folder, min_num_images_per_class)\n",
    "      try:\n",
    "        with open(set_filename, 'wb') as f:\n",
    "          pickle.dump(dataset, f, pickle.HIGHEST_PROTOCOL)\n",
    "      except Exception as e:\n",
    "        print('Unable to save data to', set_filename, ':', e)\n",
    "  \n",
    "  return dataset_names\n",
    "\n",
    "train_datasets = maybe_pickle(data_root+'notMNIST_large/', train_folders, 45000)\n",
    "test_datasets = maybe_pickle(data_root+'notMNIST_small/', test_folders, 1800)"
   ]
  },
  {
   "cell_type": "markdown",
   "metadata": {},
   "source": [
    "# Problem 2\n",
    "Let's verify that the data still looks good. Displaying a sample of the labels and images from the ndarray. Hint: you can use matplotlib.pyplot."
   ]
  },
  {
   "cell_type": "code",
   "execution_count": null,
   "metadata": {},
   "outputs": [],
   "source": [
    "def maybe_unpickle(raiz, data_folder):\n",
    "    set_filename = raiz + data_folder\n",
    "    dataset = None\n",
    "\n",
    "    if os.path.exists(set_filename):\n",
    "        print('Deserializando %s.' % set_filename)\n",
    "        try:\n",
    "            with open(set_filename, 'rb') as f:\n",
    "                dataset = pickle.load(f, fix_imports=True, encoding=\"ASCII\", errors=\"strict\")\n",
    "        except Exception as e:\n",
    "            print('Unable to load data to', set_filename, ':', e)\n",
    "    else:\n",
    "        print('%s unable file - Skipping unpickling.' % set_filename) \n",
    "    return dataset\n",
    "\n",
    "def muestra_letras(root, dicc, n):\n",
    "    for label, file in dicc.items():\n",
    "        datos = maybe_unpickle(root, file)\n",
    "        est_muestra = np.sort(np.random.randint(0, len(datos), size= n))\n",
    "        print(label)\n",
    "        \n",
    "        for estrac_muestra in est_muestra:\n",
    "            ver_letra(datos[estrac_muestra])\n",
    "    return\n",
    "\n",
    "def ver_letra(datos, titulo = '', guarda = False, figsize = .70):\n",
    "    imgplot = plt.figure(figsize=[figsize, figsize] ) # equivalencia entre pulgadas y pixeles\n",
    "    imgplot = plt.axis('off')\n",
    "    imgplot = plt.gray()\n",
    "    imgplot = plt.title(titulo)\n",
    "    imgplot = plt.imshow(datos)\n",
    "\n",
    "    if guarda: \n",
    "        imgplot = plt.savefig(data_root+'letra.png')\n",
    "\n",
    "    plt.show()\n",
    "    \n",
    "    return\n",
    "\n",
    "def label_real(num):\n",
    "    dic = {0:'A', 1:'B', 2:'C', 3:'D', 4:'E', 5:'F', 6:'G', 7:'H', 8:'I', 9:'J'}\n",
    "    letra = dic[num]\n",
    "    return letra\n"
   ]
  },
  {
   "cell_type": "code",
   "execution_count": null,
   "metadata": {},
   "outputs": [],
   "source": [
    "train_dic = {train_folders[i]: train_folders[i+1] for i in range(0, len(train_folders), 2)}\n",
    "\n",
    "test_dic = {test_folders[i]: test_folders[i+1] for i in range(0, len(test_folders), 2)}\n",
    "\n",
    "tam_muestra = 3 # tres muestras por cada letra\n",
    "\n",
    "root_train = data_root+'notMNIST_large/'\n",
    "root_test  = data_root+'notMNIST_small/'"
   ]
  },
  {
   "cell_type": "code",
   "execution_count": null,
   "metadata": {
    "scrolled": false
   },
   "outputs": [],
   "source": [
    "muestra_letras(root_train, train_dic, tam_muestra)\n",
    "\n",
    "# muestra_letras(root_test, test_dic, tam_muestra)"
   ]
  },
  {
   "cell_type": "markdown",
   "metadata": {},
   "source": [
    "# Problem 3\n",
    "Another check: we expect the data to be balanced across classes. Verify that."
   ]
  },
  {
   "cell_type": "code",
   "execution_count": null,
   "metadata": {},
   "outputs": [],
   "source": [
    "# para hacer check vamos a recorrer ambos diccionarios (test y train), para modificar\n",
    "# el valor agregando ademas de archivo de almacenamiento, la cantidad de unidades de \n",
    "# datos que contiene\n",
    "\n",
    "def cant_letras(root, dicc):\n",
    "    cantidad = []\n",
    "    for label, file in dicc.items():\n",
    "        datos = maybe_unpickle(root, file)\n",
    "        print('-')\n",
    "        cantidad.append(len(datos))\n",
    "    return cantidad\n",
    "\n",
    "def dic_builder(root, folder_pri, dic):\n",
    "    label = [letra for letra in folder_pri if len(letra)==1]\n",
    "    cant = cant_letras(root, dic)\n",
    "    data = dict(zip(label, cant))\n",
    "    return data\n",
    "\n",
    "def plt_bar(dat, title):\n",
    "    plt.bar(range(len(dat)), list(dat.values()), align='center')\n",
    "    plt.xticks(range(len(dat)), list(dat.keys()))\n",
    "    plt.title(title)\n",
    "    plt.show()"
   ]
  },
  {
   "cell_type": "code",
   "execution_count": null,
   "metadata": {},
   "outputs": [],
   "source": [
    "train_dat = dic_builder(root_train, train_folders, train_dic)\n",
    "test_dat = dic_builder(root_test, test_folders, test_dic)\n",
    "\n",
    "tits = ['Grupo de Entrenamiento', 'Grupo de Prueba']\n",
    "dats = [train_dat, test_dat]\n",
    "\n",
    "data = dict(zip(tits, dats))\n",
    "\n",
    "for tit, dat in data.items():\n",
    "    plt_bar(dat, tit)\n",
    "\n",
    "# data to be balanced across classes"
   ]
  },
  {
   "cell_type": "markdown",
   "metadata": {},
   "source": [
    "Merge and prune the training data as needed. Depending on your computer setup, you might not be able to fit it all in memory, and you can tune train_size as needed. The labels will be stored into a separate array of integers 0 through 9.\n",
    "\n",
    "Also create a validation dataset for hyperparameter tuning."
   ]
  },
  {
   "cell_type": "code",
   "execution_count": null,
   "metadata": {},
   "outputs": [],
   "source": [
    "def make_arrays(nb_rows, img_size):\n",
    "  if nb_rows:\n",
    "    dataset = np.ndarray((nb_rows, img_size, img_size), dtype=np.float32)\n",
    "    labels = np.ndarray(nb_rows, dtype=np.int32)\n",
    "  else:\n",
    "    dataset, labels = None, None\n",
    "  return dataset, labels\n",
    "\n",
    "def merge_datasets(pickle_files, train_size, valid_size=0):\n",
    "  num_classes = len(pickle_files)\n",
    "  valid_dataset, valid_labels = make_arrays(valid_size, image_size)\n",
    "  train_dataset, train_labels = make_arrays(train_size, image_size)\n",
    "  vsize_per_class = valid_size // num_classes\n",
    "  tsize_per_class = train_size // num_classes\n",
    "    \n",
    "  start_v, start_t = 0, 0\n",
    "  end_v, end_t = vsize_per_class, tsize_per_class\n",
    "  end_l = vsize_per_class+tsize_per_class\n",
    "  for label, pickle_file in enumerate(pickle_files):       \n",
    "    try:\n",
    "      with open(pickle_file, 'rb') as f:\n",
    "        letter_set = pickle.load(f)\n",
    "        # let's shuffle the letters to have random validation and training set\n",
    "        np.random.shuffle(letter_set)\n",
    "        if valid_dataset is not None:\n",
    "          valid_letter = letter_set[:vsize_per_class, :, :]\n",
    "          valid_dataset[start_v:end_v, :, :] = valid_letter\n",
    "          valid_labels[start_v:end_v] = label\n",
    "          start_v += vsize_per_class\n",
    "          end_v += vsize_per_class\n",
    "                    \n",
    "        train_letter = letter_set[vsize_per_class:end_l, :, :]\n",
    "        train_dataset[start_t:end_t, :, :] = train_letter\n",
    "        train_labels[start_t:end_t] = label\n",
    "        start_t += tsize_per_class\n",
    "        end_t += tsize_per_class\n",
    "    except Exception as e:\n",
    "      print('Unable to process data from', pickle_file, ':', e)\n",
    "      raise\n",
    "    \n",
    "  return valid_dataset, valid_labels, train_dataset, train_labels"
   ]
  },
  {
   "cell_type": "code",
   "execution_count": null,
   "metadata": {},
   "outputs": [],
   "source": [
    "# train_dic y test_dic se obtienen en resolucion de problema 2 (muestra de imagenes)\n",
    "# image_size se obtiene en probl 1\n",
    "\n",
    "image_size = 28  # Pixel width and height.\n",
    "train_datasets = [root_train+nombre for nombre in list(train_dic.values())]\n",
    "test_datasets  = [root_test+nombre for nombre in list(test_dic.values())]\n",
    "\n",
    "train_size = 50000\n",
    "valid_size = 10000\n",
    "test_size = 10000\n",
    "\n",
    "valid_dataset, valid_labels, train_dataset, train_labels = merge_datasets(\n",
    "  train_datasets, train_size, valid_size)\n",
    "_, _, test_dataset, test_labels = merge_datasets(test_datasets, test_size)\n",
    "\n",
    "print('Training:', train_dataset.shape, train_labels.shape)\n",
    "print('Validation:', valid_dataset.shape, valid_labels.shape)\n",
    "print('Testing:', test_dataset.shape, test_labels.shape)\n"
   ]
  },
  {
   "cell_type": "markdown",
   "metadata": {},
   "source": [
    "Next, we'll randomize the data. It's important to have the labels well shuffled for the training and test distributions to match."
   ]
  },
  {
   "cell_type": "code",
   "execution_count": null,
   "metadata": {},
   "outputs": [],
   "source": [
    "def randomize(dataset, labels):\n",
    "  permutation = np.random.permutation(labels.shape[0])\n",
    "  shuffled_dataset = dataset[permutation,:,:]\n",
    "  shuffled_labels = labels[permutation]\n",
    "  return shuffled_dataset, shuffled_labels\n",
    "\n",
    "# Next, we'll randomize the data. \n",
    "# It's important to have the labels well shuffled for the training\n",
    "# and test distributions to match\n",
    "train_dataset, train_labels = randomize(train_dataset, train_labels)\n",
    "test_dataset, test_labels = randomize(test_dataset, test_labels)\n",
    "valid_dataset, valid_labels = randomize(valid_dataset, valid_labels)\n",
    "\n"
   ]
  },
  {
   "cell_type": "markdown",
   "metadata": {},
   "source": [
    "# Problem 4\n",
    "Convince yourself that the data is still good after shuffling!"
   ]
  },
  {
   "cell_type": "code",
   "execution_count": null,
   "metadata": {},
   "outputs": [],
   "source": [
    "# tamaño de muestra = 30 je je\n",
    "\n",
    "t_muestra = 30 # para cada conjunto de datos (label)\n",
    "ndatos = [train_labels.shape, valid_labels.shape, test_labels.shape]\n",
    "muestras = [np.sort(np.random.randint(0, ndato[0]-1, size= t_muestra)) for ndato in ndatos]\n",
    "\n",
    "pob_dat = ['train_dataset', 'valid_dataset', 'test_dataset']\n",
    "pob_lab = ['train_labels', 'valid_labels', 'test_labels']\n",
    "\n",
    "data  = dict(zip(pob_dat, muestras))\n",
    "label = dict(zip(pob_lab, muestras))\n",
    "\n",
    "# extrayendo las muestras y ..\n",
    "for tit, dat in data.items():\n",
    "    pobl = vars()[tit]\n",
    "    data[tit] = pobl[dat]\n",
    "# sus respectivas labels,\n",
    "for tit, dat in label.items():\n",
    "    pobl = vars()[tit]\n",
    "    label[tit] = pobl[dat] #~.\n",
    "\n",
    "data  = { k.replace(k, k[0:k.find('_')]): v for k, v in data.items()  }\n",
    "label = { k.replace(k, k[0:k.find('_')]): v for k, v in label.items() }\n",
    "\n"
   ]
  },
  {
   "cell_type": "code",
   "execution_count": null,
   "metadata": {},
   "outputs": [],
   "source": [
    "from itertools import chain\n",
    "from collections import defaultdict\n",
    "\n",
    "label_data = defaultdict(list)\n",
    "for k, v in chain(label.items(), data.items()):\n",
    "    label_data[k].append(v)\n",
    " \n",
    "#print(label_data.keys())\n",
    "#print(label_data['train'][0])\n",
    "#print(label_data['train'][0][0])\n",
    "#print(len(label_data['train'][1][0]))\n",
    "\n",
    "for clave, valor in label_data.items():\n",
    "    print(\"-/-/-/-/-/-/-/-/-/-/-/-/-/\")\n",
    "    print('Conjunto: ', clave)\n",
    "\n",
    "    for i in range(len(valor[0])):\n",
    "        ver_letra(valor[1][i], label_real(valor[0][i]))"
   ]
  },
  {
   "cell_type": "markdown",
   "metadata": {},
   "source": [
    "Finally, let's save the data for later reuse:"
   ]
  },
  {
   "cell_type": "code",
   "execution_count": null,
   "metadata": {},
   "outputs": [],
   "source": [
    "pickle_file = os.path.join(data_root, 'notMNIST.pickle')\n",
    "\n",
    "try:\n",
    "  f = open(pickle_file, 'wb')\n",
    "  save = {\n",
    "    'train_dataset': train_dataset,\n",
    "    'train_labels': train_labels,\n",
    "    'valid_dataset': valid_dataset,\n",
    "    'valid_labels': valid_labels,\n",
    "    'test_dataset': test_dataset,\n",
    "    'test_labels': test_labels,\n",
    "    }\n",
    "  pickle.dump(save, f, pickle.HIGHEST_PROTOCOL)\n",
    "  f.close()\n",
    "except Exception as e:\n",
    "  print('Unable to save data to', pickle_file, ':', e)\n",
    "  raise"
   ]
  },
  {
   "cell_type": "code",
   "execution_count": null,
   "metadata": {},
   "outputs": [],
   "source": [
    "statinfo = os.stat(pickle_file)\n",
    "print('Compressed pickle size:', statinfo.st_size)"
   ]
  },
  {
   "cell_type": "markdown",
   "metadata": {},
   "source": [
    "# Problem 5\n",
    "By construction, this dataset might contain a lot of overlapping samples, including training data that's also contained in the validation and test set! Overlap between training and test can skew the results if you expect to use your model in an environment where there is never an overlap, but are actually ok if you expect to see training samples recur when you use it. Measure how much overlap there is between training, validation and test samples.\n",
    "\n",
    "Optional questions:\n",
    "\n",
    "What about near duplicates between datasets? (images that are almost identical)\n",
    "Create a sanitized validation and test set, and compare your accuracy on those in subsequent assignments."
   ]
  },
  {
   "cell_type": "code",
   "execution_count": null,
   "metadata": {},
   "outputs": [],
   "source": [
    "# leer archivo guardado previamente\n",
    "dataset = maybe_unpickle(data_root, \"notMNIST.pickle\")\n",
    "\n",
    "for k, v in dataset.items():\n",
    "    print(k, 'cant: ', len(v))\n",
    "\n"
   ]
  },
  {
   "cell_type": "code",
   "execution_count": null,
   "metadata": {},
   "outputs": [],
   "source": [
    "# para ello se usara una funcion hash para cada imagen\n",
    "\n",
    "import imagehash\n",
    "from PIL import Image\n",
    "\n",
    "ver_letra(dataset['train_dataset'][0], label_real(dataset['train_labels'][0]), True)\n",
    "hash0  = imagehash.average_hash(Image.open(data_root+'letra.png'))\n",
    "hash01 = imagehash.dhash(Image.open(data_root+'letra.png'))\n",
    "print('hash: ', hash01)\n",
    "\n",
    "letra2 = ver_letra(dataset['train_dataset'][1], label_real(dataset['train_labels'][1]), True)\n",
    "hash1  = imagehash.average_hash(Image.open(data_root+'letra.png'))\n",
    "hash02 = imagehash.dhash(Image.open(data_root+'letra.png'))\n",
    "print('hash: ', hash02)\n",
    "\n",
    "i = 0\n",
    "for letra in dataset['train_dataset']:\n",
    "    i += 1\n",
    "    ver_letra(letra, '', True)\n",
    "\n",
    "    if i>10:\n",
    "        break\n",
    "    \n"
   ]
  },
  {
   "cell_type": "code",
   "execution_count": null,
   "metadata": {},
   "outputs": [],
   "source": [
    "print(hash01==hash02)\n",
    "print((hash01 - hash02)/len(hash01.hash)**2)"
   ]
  }
 ],
 "metadata": {
  "kernelspec": {
   "display_name": "Python 3",
   "language": "python",
   "name": "python3"
  },
  "language_info": {
   "codemirror_mode": {
    "name": "ipython",
    "version": 3
   },
   "file_extension": ".py",
   "mimetype": "text/x-python",
   "name": "python",
   "nbconvert_exporter": "python",
   "pygments_lexer": "ipython3",
   "version": "3.6.6"
  }
 },
 "nbformat": 4,
 "nbformat_minor": 2
}
