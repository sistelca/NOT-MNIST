{
 "cells": [
  {
   "cell_type": "markdown",
   "metadata": {},
   "source": [
    "La solucion completa, espero que sea de provecho para alguien\n",
    "Complet solution, I hope it is useful for someone\n",
    "完整的解决方案，我希望它对某人有用\n",
    "\n",
    "Donations to:\n",
    "捐款给：\n",
    "\n",
    "\n",
    "1sM5s1VkfcU77CAKzWnGT1bvTLrdq5TVM"
   ]
  },
  {
   "cell_type": "code",
   "execution_count": 3,
   "metadata": {},
   "outputs": [],
   "source": [
    "# These are all the modules we'll be using later. Make sure you can import them\n",
    "# before proceeding further.\n",
    "from __future__ import print_function\n",
    "import imageio\n",
    "import matplotlib.pyplot as plt\n",
    "import numpy as np\n",
    "import os\n",
    "import sys\n",
    "import io\n",
    "import tarfile\n",
    "from IPython.display import display, Image\n",
    "from sklearn.model_selection import train_test_split\n",
    "from sklearn.linear_model import LogisticRegression\n",
    "from sklearn import metrics\n",
    "from six.moves.urllib.request import urlretrieve\n",
    "from six.moves import cPickle as pickle\n",
    "from datetime import datetime\n",
    "\n",
    "\n",
    "# Config the matplotlib backend as plotting inline in IPython\n",
    "%matplotlib inline"
   ]
  },
  {
   "cell_type": "code",
   "execution_count": 13,
   "metadata": {},
   "outputs": [],
   "source": [
    "data_root = 'C:/Users/Luis/Documents/Ciencia de Datos/DatasetDeeplearnig/'\n",
    "#data_root = '/home/luis/Ciencia_Datos/'\n",
    "#train_folders = os.listdir(data_root+'notMNIST_large/')\n",
    "#test_folders =  os.listdir(data_root+'notMNIST_small/')\n",
    "\n",
    "#print(train_folders)\n"
   ]
  },
  {
   "cell_type": "markdown",
   "metadata": {},
   "source": [
    "# Problem 1 \n",
    "Let's take a peek at some of the data to make sure it looks sensible. Each exemplar should be an image of a character A through J rendered in a different font. Display a sample of the images that we just downloaded. Hint: you can use the package IPython.display."
   ]
  },
  {
   "cell_type": "code",
   "execution_count": 3,
   "metadata": {},
   "outputs": [
    {
     "name": "stdout",
     "output_type": "stream",
     "text": [
      "C:/Users/Luis/Documents/Ciencia de Datos/DatasetDeeplearnig/notMNIST_large/A/\n",
      "52912\n",
      "C:/Users/Luis/Documents/Ciencia de Datos/DatasetDeeplearnig/notMNIST_large/B/\n",
      "52912\n",
      "C:/Users/Luis/Documents/Ciencia de Datos/DatasetDeeplearnig/notMNIST_large/C/\n",
      "52912\n",
      "C:/Users/Luis/Documents/Ciencia de Datos/DatasetDeeplearnig/notMNIST_large/D/\n",
      "52912\n",
      "C:/Users/Luis/Documents/Ciencia de Datos/DatasetDeeplearnig/notMNIST_large/E/\n",
      "52912\n",
      "C:/Users/Luis/Documents/Ciencia de Datos/DatasetDeeplearnig/notMNIST_large/F/\n",
      "52912\n",
      "C:/Users/Luis/Documents/Ciencia de Datos/DatasetDeeplearnig/notMNIST_large/G/\n",
      "52912\n",
      "C:/Users/Luis/Documents/Ciencia de Datos/DatasetDeeplearnig/notMNIST_large/H/\n",
      "52912\n",
      "C:/Users/Luis/Documents/Ciencia de Datos/DatasetDeeplearnig/notMNIST_large/I/\n",
      "52912\n",
      "C:/Users/Luis/Documents/Ciencia de Datos/DatasetDeeplearnig/notMNIST_large/J/\n",
      "52911\n",
      "C:/Users/Luis/Documents/Ciencia de Datos/DatasetDeeplearnig/notMNIST_large/A/\n",
      "52912\n",
      "C:/Users/Luis/Documents/Ciencia de Datos/DatasetDeeplearnig/notMNIST_large/B/\n",
      "52912\n",
      "C:/Users/Luis/Documents/Ciencia de Datos/DatasetDeeplearnig/notMNIST_large/C/\n",
      "52912\n",
      "C:/Users/Luis/Documents/Ciencia de Datos/DatasetDeeplearnig/notMNIST_large/D/\n",
      "52912\n",
      "C:/Users/Luis/Documents/Ciencia de Datos/DatasetDeeplearnig/notMNIST_large/E/\n",
      "52912\n",
      "C:/Users/Luis/Documents/Ciencia de Datos/DatasetDeeplearnig/notMNIST_large/F/\n",
      "52912\n",
      "C:/Users/Luis/Documents/Ciencia de Datos/DatasetDeeplearnig/notMNIST_large/G/\n",
      "52912\n",
      "C:/Users/Luis/Documents/Ciencia de Datos/DatasetDeeplearnig/notMNIST_large/H/\n",
      "52912\n",
      "C:/Users/Luis/Documents/Ciencia de Datos/DatasetDeeplearnig/notMNIST_large/I/\n",
      "52912\n",
      "C:/Users/Luis/Documents/Ciencia de Datos/DatasetDeeplearnig/notMNIST_large/J/\n",
      "52911\n"
     ]
    }
   ],
   "source": [
    "def muestra_imagen(nombreImagen):\n",
    "    display(Image(filename=nombreImagen))\n",
    "\n",
    "def ta_muestra(carpetas, tmuestra):\n",
    "    tmuestra_ini = int(tmuestra/len(carpetas)) # distribucion uniforme de muestras en carpetas\n",
    "    estratos = len(carpetas)\n",
    "    muestra = tmuestra-((estratos-1)*tmuestra_ini)\n",
    "    return muestra\n",
    "    \n",
    "\n",
    "def list_imagens(carpetas, tmuestra):\n",
    "    num_image_file = []\n",
    "\n",
    "    for carpeta in carpetas:\n",
    "        cant_imgs = sum([len(files) for r, d, files in os.walk(data_root+'notMNIST_large/'+carpeta+'/')])\n",
    "        num_image_file.append({'nombre': data_root+'notMNIST_large/'+carpeta+'/',\n",
    "                               'cantidad': cant_imgs, 'muestra': ta_muestra(carpetas, tmuestra)})\n",
    "        \n",
    "        print(data_root+'notMNIST_large/'+carpeta+'/')\n",
    "        print(cant_imgs)\n",
    "\n",
    "    return num_image_file\n",
    "\n",
    "\n"
   ]
  },
  {
   "cell_type": "code",
   "execution_count": null,
   "metadata": {},
   "outputs": [],
   "source": [
    "sample_train = 30\n",
    "sample_test = 15\n",
    "\n",
    "\n",
    "lista_de_todas_imgs_train = list_imagens(train_folders, sample_train)\n",
    "\n",
    "\n",
    "lista_de_todas_imgs_test  = list_imagens(test_folders, sample_test)"
   ]
  },
  {
   "cell_type": "code",
   "execution_count": 4,
   "metadata": {},
   "outputs": [
    {
     "name": "stdout",
     "output_type": "stream",
     "text": [
      "C:/Users/Luis/Documents/Ciencia de Datos/DatasetDeeplearnig/notMNIST_large/A/\n",
      "\n"
     ]
    },
    {
     "data": {
      "image/png": "[encoded data removed]",
      "text/plain": [
       "<IPython.core.display.Image object>"
      ]
     },
     "metadata": {},
     "output_type": "display_data"
    },
    {
     "data": {
      "image/png": "[encoded data removed]",
      "text/plain": [
       "<IPython.core.display.Image object>"
      ]
     },
     "metadata": {},
     "output_type": "display_data"
    },
    {
     "data": {
      "image/png": "[encoded data removed]",
      "text/plain": [
       "<IPython.core.display.Image object>"
      ]
     },
     "metadata": {},
     "output_type": "display_data"
    },
    {
     "name": "stdout",
     "output_type": "stream",
     "text": [
      "C:/Users/Luis/Documents/Ciencia de Datos/DatasetDeeplearnig/notMNIST_large/B/\n",
      "\n"
     ]
    },
    {
     "data": {
      "image/png": "[encoded data removed]",
      "text/plain": [
       "<IPython.core.display.Image object>"
      ]
     },
     "metadata": {},
     "output_type": "display_data"
    },
    {
     "data": {
      "image/png": "[encoded data removed]",
      "text/plain": [
       "<IPython.core.display.Image object>"
      ]
     },
     "metadata": {},
     "output_type": "display_data"
    },
    {
     "data": {
      "image/png": "[encoded data removed]",
      "text/plain": [
       "<IPython.core.display.Image object>"
      ]
     },
     "metadata": {},
     "output_type": "display_data"
    },
    {
     "name": "stdout",
     "output_type": "stream",
     "text": [
      "C:/Users/Luis/Documents/Ciencia de Datos/DatasetDeeplearnig/notMNIST_large/C/\n",
      "\n"
     ]
    },
    {
     "data": {
      "image/png": "[encoded data removed]",
      "text/plain": [
       "<IPython.core.display.Image object>"
      ]
     },
     "metadata": {},
     "output_type": "display_data"
    },
    {
     "data": {
      "image/png": "[encoded data removed]",
      "text/plain": [
       "<IPython.core.display.Image object>"
      ]
     },
     "metadata": {},
     "output_type": "display_data"
    },
    {
     "data": {
      "image/png": "[encoded data removed]",
      "text/plain": [
       "<IPython.core.display.Image object>"
      ]
     },
     "metadata": {},
     "output_type": "display_data"
    },
    {
     "name": "stdout",
     "output_type": "stream",
     "text": [
      "C:/Users/Luis/Documents/Ciencia de Datos/DatasetDeeplearnig/notMNIST_large/D/\n",
      "\n"
     ]
    },
    {
     "data": {
      "image/png": "[encoded data removed]",
      "text/plain": [
       "<IPython.core.display.Image object>"
      ]
     },
     "metadata": {},
     "output_type": "display_data"
    },
    {
     "data": {
      "image/png": "[encoded data removed]",
      "text/plain": [
       "<IPython.core.display.Image object>"
      ]
     },
     "metadata": {},
     "output_type": "display_data"
    },
    {
     "data": {
      "image/png": "[encoded data removed]",
      "text/plain": [
       "<IPython.core.display.Image object>"
      ]
     },
     "metadata": {},
     "output_type": "display_data"
    },
    {
     "name": "stdout",
     "output_type": "stream",
     "text": [
      "C:/Users/Luis/Documents/Ciencia de Datos/DatasetDeeplearnig/notMNIST_large/E/\n",
      "\n"
     ]
    },
    {
     "data": {
      "image/png": "[encoded data removed]",
      "text/plain": [
       "<IPython.core.display.Image object>"
      ]
     },
     "metadata": {},
     "output_type": "display_data"
    },
    {
     "data": {
      "image/png": "[encoded data removed]",
      "text/plain": [
       "<IPython.core.display.Image object>"
      ]
     },
     "metadata": {},
     "output_type": "display_data"
    },
    {
     "data": {
      "image/png": "[encoded data removed]",
      "text/plain": [
       "<IPython.core.display.Image object>"
      ]
     },
     "metadata": {},
     "output_type": "display_data"
    },
    {
     "name": "stdout",
     "output_type": "stream",
     "text": [
      "C:/Users/Luis/Documents/Ciencia de Datos/DatasetDeeplearnig/notMNIST_large/F/\n",
      "\n"
     ]
    },
    {
     "data": {
      "image/png": "[encoded data removed]",
      "text/plain": [
       "<IPython.core.display.Image object>"
      ]
     },
     "metadata": {},
     "output_type": "display_data"
    },
    {
     "data": {
      "image/png": "[encoded data removed]",
      "text/plain": [
       "<IPython.core.display.Image object>"
      ]
     },
     "metadata": {},
     "output_type": "display_data"
    },
    {
     "data": {
      "image/png": "[encoded data removed]",
      "text/plain": [
       "<IPython.core.display.Image object>"
      ]
     },
     "metadata": {},
     "output_type": "display_data"
    },
    {
     "name": "stdout",
     "output_type": "stream",
     "text": [
      "C:/Users/Luis/Documents/Ciencia de Datos/DatasetDeeplearnig/notMNIST_large/G/\n",
      "\n"
     ]
    },
    {
     "data": {
      "image/png": "[encoded data removed]",
      "text/plain": [
       "<IPython.core.display.Image object>"
      ]
     },
     "metadata": {},
     "output_type": "display_data"
    },
    {
     "data": {
      "image/png": "[encoded data removed]",
      "text/plain": [
       "<IPython.core.display.Image object>"
      ]
     },
     "metadata": {},
     "output_type": "display_data"
    },
    {
     "data": {
      "image/png": "[encoded data removed]",
      "text/plain": [
       "<IPython.core.display.Image object>"
      ]
     },
     "metadata": {},
     "output_type": "display_data"
    },
    {
     "name": "stdout",
     "output_type": "stream",
     "text": [
      "C:/Users/Luis/Documents/Ciencia de Datos/DatasetDeeplearnig/notMNIST_large/H/\n",
      "\n"
     ]
    },
    {
     "data": {
      "image/png": "[encoded data removed]",
      "text/plain": [
       "<IPython.core.display.Image object>"
      ]
     },
     "metadata": {},
     "output_type": "display_data"
    },
    {
     "data": {
      "image/png": "[encoded data removed]",
      "text/plain": [
       "<IPython.core.display.Image object>"
      ]
     },
     "metadata": {},
     "output_type": "display_data"
    },
    {
     "data": {
      "image/png": "[encoded data removed]",
      "text/plain": [
       "<IPython.core.display.Image object>"
      ]
     },
     "metadata": {},
     "output_type": "display_data"
    },
    {
     "name": "stdout",
     "output_type": "stream",
     "text": [
      "C:/Users/Luis/Documents/Ciencia de Datos/DatasetDeeplearnig/notMNIST_large/I/\n",
      "\n"
     ]
    },
    {
     "data": {
      "image/png": "[encoded data removed]",
      "text/plain": [
       "<IPython.core.display.Image object>"
      ]
     },
     "metadata": {},
     "output_type": "display_data"
    },
    {
     "data": {
      "image/png": "[encoded data removed]",
      "text/plain": [
       "<IPython.core.display.Image object>"
      ]
     },
     "metadata": {},
     "output_type": "display_data"
    },
    {
     "data": {
      "image/png": "[encoded data removed]",
      "text/plain": [
       "<IPython.core.display.Image object>"
      ]
     },
     "metadata": {},
     "output_type": "display_data"
    },
    {
     "name": "stdout",
     "output_type": "stream",
     "text": [
      "C:/Users/Luis/Documents/Ciencia de Datos/DatasetDeeplearnig/notMNIST_large/J/\n",
      "\n"
     ]
    },
    {
     "data": {
      "image/png": "[encoded data removed]",
      "text/plain": [
       "<IPython.core.display.Image object>"
      ]
     },
     "metadata": {},
     "output_type": "display_data"
    },
    {
     "data": {
      "image/png": "[encoded data removed]",
      "text/plain": [
       "<IPython.core.display.Image object>"
      ]
     },
     "metadata": {},
     "output_type": "display_data"
    },
    {
     "data": {
      "image/png": "[encoded data removed]",
      "text/plain": [
       "<IPython.core.display.Image object>"
      ]
     },
     "metadata": {},
     "output_type": "display_data"
    },
    {
     "name": "stdout",
     "output_type": "stream",
     "text": [
      "xd\n"
     ]
    }
   ],
   "source": [
    "# imprime muestra de imagenes de entrenamiento\n",
    "\n",
    "for carpeta in lista_de_todas_imgs_train:\n",
    "    muestras = np.sort(np.random.randint(0, carpeta['cantidad'], size= carpeta['muestra']))\n",
    "\n",
    "    arch_imagen = [image_files for r, d, image_files in os.walk(carpeta['nombre'])]\n",
    "    arch_imagen = arch_imagen[0]\n",
    "    \n",
    "    print(carpeta['nombre']+'\\n')\n",
    "    \n",
    "    for muestra in muestras:\n",
    "#        print(arch_imagen[muestra])\n",
    "        muestra_imagen(carpeta['nombre']+arch_imagen[muestra])\n",
    "       \n",
    "print('xd')\n",
    "\n",
    "            \n"
   ]
  },
  {
   "cell_type": "markdown",
   "metadata": {},
   "source": [
    "Now let's load the data in a more manageable format. Since, depending on your computer setup you might not be able to fit it all in memory, we'll load each class into a separate dataset, store them on disk and curate them independently. Later we'll merge them into a single dataset of manageable size.\n",
    "\n",
    "We'll convert the entire dataset into a 3D array (image index, x, y) of floating point values, normalized to have approximately zero mean and standard deviation ~0.5 to make training easier down the road.\n",
    "\n",
    "A few images might not be readable, we'll just skip them."
   ]
  },
  {
   "cell_type": "code",
   "execution_count": 9,
   "metadata": {},
   "outputs": [
    {
     "name": "stdout",
     "output_type": "stream",
     "text": [
      "Pickling C:/Users/Luis/Documents/Ciencia de Datos/DatasetDeeplearnig/notMNIST_large/A.pickle.\n",
      "C:/Users/Luis/Documents/Ciencia de Datos/DatasetDeeplearnig/notMNIST_large/A\n",
      "Could not read: C:/Users/Luis/Documents/Ciencia de Datos/DatasetDeeplearnig/notMNIST_large/A\\RnJlaWdodERpc3BCb29rSXRhbGljLnR0Zg==.png : Could not find a format to read the specified file in mode 'i' - it's ok, skipping.\n",
      "Could not read: C:/Users/Luis/Documents/Ciencia de Datos/DatasetDeeplearnig/notMNIST_large/A\\SG90IE11c3RhcmQgQlROIFBvc3Rlci50dGY=.png : Could not find a format to read the specified file in mode 'i' - it's ok, skipping.\n",
      "Could not read: C:/Users/Luis/Documents/Ciencia de Datos/DatasetDeeplearnig/notMNIST_large/A\\Um9tYW5hIEJvbGQucGZi.png : Could not find a format to read the specified file in mode 'i' - it's ok, skipping.\n",
      "Full dataset tensor: (52909, 28, 28)\n",
      "Mean: -0.12825\n",
      "Standard deviation: 0.443121\n",
      "Pickling C:/Users/Luis/Documents/Ciencia de Datos/DatasetDeeplearnig/notMNIST_large/B.pickle.\n",
      "C:/Users/Luis/Documents/Ciencia de Datos/DatasetDeeplearnig/notMNIST_large/B\n",
      "Could not read: C:/Users/Luis/Documents/Ciencia de Datos/DatasetDeeplearnig/notMNIST_large/B\\TmlraXNFRi1TZW1pQm9sZEl0YWxpYy5vdGY=.png : Could not find a format to read the specified file in mode 'i' - it's ok, skipping.\n",
      "Full dataset tensor: (52911, 28, 28)\n",
      "Mean: -0.00756303\n",
      "Standard deviation: 0.454491\n",
      "Pickling C:/Users/Luis/Documents/Ciencia de Datos/DatasetDeeplearnig/notMNIST_large/C.pickle.\n",
      "C:/Users/Luis/Documents/Ciencia de Datos/DatasetDeeplearnig/notMNIST_large/C\n",
      "Full dataset tensor: (52912, 28, 28)\n",
      "Mean: -0.142258\n",
      "Standard deviation: 0.439806\n",
      "Pickling C:/Users/Luis/Documents/Ciencia de Datos/DatasetDeeplearnig/notMNIST_large/D.pickle.\n",
      "C:/Users/Luis/Documents/Ciencia de Datos/DatasetDeeplearnig/notMNIST_large/D\n",
      "Could not read: C:/Users/Luis/Documents/Ciencia de Datos/DatasetDeeplearnig/notMNIST_large/D\\VHJhbnNpdCBCb2xkLnR0Zg==.png : Could not find a format to read the specified file in mode 'i' - it's ok, skipping.\n",
      "Full dataset tensor: (52911, 28, 28)\n",
      "Mean: -0.0573678\n",
      "Standard deviation: 0.455648\n",
      "Pickling C:/Users/Luis/Documents/Ciencia de Datos/DatasetDeeplearnig/notMNIST_large/E.pickle.\n",
      "C:/Users/Luis/Documents/Ciencia de Datos/DatasetDeeplearnig/notMNIST_large/E\n",
      "Full dataset tensor: (52912, 28, 28)\n",
      "Mean: -0.069899\n",
      "Standard deviation: 0.452942\n",
      "Pickling C:/Users/Luis/Documents/Ciencia de Datos/DatasetDeeplearnig/notMNIST_large/F.pickle.\n",
      "C:/Users/Luis/Documents/Ciencia de Datos/DatasetDeeplearnig/notMNIST_large/F\n",
      "Full dataset tensor: (52912, 28, 28)\n",
      "Mean: -0.125583\n",
      "Standard deviation: 0.44709\n",
      "Pickling C:/Users/Luis/Documents/Ciencia de Datos/DatasetDeeplearnig/notMNIST_large/G.pickle.\n",
      "C:/Users/Luis/Documents/Ciencia de Datos/DatasetDeeplearnig/notMNIST_large/G\n",
      "Full dataset tensor: (52912, 28, 28)\n",
      "Mean: -0.0945814\n",
      "Standard deviation: 0.44624\n",
      "Pickling C:/Users/Luis/Documents/Ciencia de Datos/DatasetDeeplearnig/notMNIST_large/H.pickle.\n",
      "C:/Users/Luis/Documents/Ciencia de Datos/DatasetDeeplearnig/notMNIST_large/H\n",
      "Full dataset tensor: (52912, 28, 28)\n",
      "Mean: -0.0685221\n",
      "Standard deviation: 0.454232\n",
      "Pickling C:/Users/Luis/Documents/Ciencia de Datos/DatasetDeeplearnig/notMNIST_large/I.pickle.\n",
      "C:/Users/Luis/Documents/Ciencia de Datos/DatasetDeeplearnig/notMNIST_large/I\n",
      "Full dataset tensor: (52912, 28, 28)\n",
      "Mean: 0.0307862\n",
      "Standard deviation: 0.468899\n",
      "Pickling C:/Users/Luis/Documents/Ciencia de Datos/DatasetDeeplearnig/notMNIST_large/J.pickle.\n",
      "C:/Users/Luis/Documents/Ciencia de Datos/DatasetDeeplearnig/notMNIST_large/J\n",
      "Full dataset tensor: (52911, 28, 28)\n",
      "Mean: -0.153358\n",
      "Standard deviation: 0.443656\n",
      "Pickling C:/Users/Luis/Documents/Ciencia de Datos/DatasetDeeplearnig/notMNIST_small/A.pickle.\n",
      "C:/Users/Luis/Documents/Ciencia de Datos/DatasetDeeplearnig/notMNIST_small/A\n",
      "Could not read: C:/Users/Luis/Documents/Ciencia de Datos/DatasetDeeplearnig/notMNIST_small/A\\RGVtb2NyYXRpY2FCb2xkT2xkc3R5bGUgQm9sZC50dGY=.png : Could not find a format to read the specified file in mode 'i' - it's ok, skipping.\n",
      "Full dataset tensor: (1872, 28, 28)\n",
      "Mean: -0.132626\n",
      "Standard deviation: 0.445128\n",
      "Pickling C:/Users/Luis/Documents/Ciencia de Datos/DatasetDeeplearnig/notMNIST_small/B.pickle.\n",
      "C:/Users/Luis/Documents/Ciencia de Datos/DatasetDeeplearnig/notMNIST_small/B\n",
      "Full dataset tensor: (1873, 28, 28)\n",
      "Mean: 0.00535609\n",
      "Standard deviation: 0.457115\n",
      "Pickling C:/Users/Luis/Documents/Ciencia de Datos/DatasetDeeplearnig/notMNIST_small/C.pickle.\n",
      "C:/Users/Luis/Documents/Ciencia de Datos/DatasetDeeplearnig/notMNIST_small/C\n",
      "Full dataset tensor: (1873, 28, 28)\n",
      "Mean: -0.141521\n",
      "Standard deviation: 0.44269\n",
      "Pickling C:/Users/Luis/Documents/Ciencia de Datos/DatasetDeeplearnig/notMNIST_small/D.pickle.\n",
      "C:/Users/Luis/Documents/Ciencia de Datos/DatasetDeeplearnig/notMNIST_small/D\n",
      "Full dataset tensor: (1873, 28, 28)\n",
      "Mean: -0.0492167\n",
      "Standard deviation: 0.459759\n",
      "Pickling C:/Users/Luis/Documents/Ciencia de Datos/DatasetDeeplearnig/notMNIST_small/E.pickle.\n",
      "C:/Users/Luis/Documents/Ciencia de Datos/DatasetDeeplearnig/notMNIST_small/E\n",
      "Full dataset tensor: (1873, 28, 28)\n",
      "Mean: -0.0599148\n",
      "Standard deviation: 0.45735\n",
      "Pickling C:/Users/Luis/Documents/Ciencia de Datos/DatasetDeeplearnig/notMNIST_small/F.pickle.\n",
      "C:/Users/Luis/Documents/Ciencia de Datos/DatasetDeeplearnig/notMNIST_small/F\n",
      "Could not read: C:/Users/Luis/Documents/Ciencia de Datos/DatasetDeeplearnig/notMNIST_small/F\\Q3Jvc3NvdmVyIEJvbGRPYmxpcXVlLnR0Zg==.png : Could not find a format to read the specified file in mode 'i' - it's ok, skipping.\n",
      "Full dataset tensor: (1872, 28, 28)\n",
      "Mean: -0.118185\n",
      "Standard deviation: 0.452279\n",
      "Pickling C:/Users/Luis/Documents/Ciencia de Datos/DatasetDeeplearnig/notMNIST_small/G.pickle.\n",
      "C:/Users/Luis/Documents/Ciencia de Datos/DatasetDeeplearnig/notMNIST_small/G\n",
      "Full dataset tensor: (1872, 28, 28)\n",
      "Mean: -0.0925503\n",
      "Standard deviation: 0.449006\n",
      "Pickling C:/Users/Luis/Documents/Ciencia de Datos/DatasetDeeplearnig/notMNIST_small/H.pickle.\n",
      "C:/Users/Luis/Documents/Ciencia de Datos/DatasetDeeplearnig/notMNIST_small/H\n",
      "Full dataset tensor: (1872, 28, 28)\n",
      "Mean: -0.0586893\n",
      "Standard deviation: 0.458759\n",
      "Pickling C:/Users/Luis/Documents/Ciencia de Datos/DatasetDeeplearnig/notMNIST_small/I.pickle.\n",
      "C:/Users/Luis/Documents/Ciencia de Datos/DatasetDeeplearnig/notMNIST_small/I\n",
      "Full dataset tensor: (1872, 28, 28)\n",
      "Mean: 0.0526451\n",
      "Standard deviation: 0.471894\n",
      "Pickling C:/Users/Luis/Documents/Ciencia de Datos/DatasetDeeplearnig/notMNIST_small/J.pickle.\n",
      "C:/Users/Luis/Documents/Ciencia de Datos/DatasetDeeplearnig/notMNIST_small/J\n",
      "Full dataset tensor: (1872, 28, 28)\n",
      "Mean: -0.151689\n",
      "Standard deviation: 0.448014\n"
     ]
    }
   ],
   "source": [
    "image_size = 28  # Pixel width and height.\n",
    "pixel_depth = 255.0  # Number of levels per pixel.\n",
    "\n",
    "def load_letter(folder, min_num_images):\n",
    "  \"\"\"Load the data for a single letter label.\"\"\"\n",
    "  image_files = os.listdir(folder)\n",
    "  dataset = np.ndarray(shape=(len(image_files), image_size, image_size),\n",
    "                         dtype=np.float32)\n",
    "  print(folder)\n",
    "  num_images = 0\n",
    "  for image in image_files:\n",
    "    image_file = os.path.join(folder, image)\n",
    "    try:\n",
    "      image_data = (imageio.imread(image_file).astype(float) - \n",
    "                    pixel_depth / 2) / pixel_depth\n",
    "      if image_data.shape != (image_size, image_size):\n",
    "        raise Exception('Unexpected image shape: %s' % str(image_data.shape))\n",
    "      dataset[num_images, :, :] = image_data\n",
    "      num_images = num_images + 1\n",
    "    except (IOError, ValueError) as e:\n",
    "      print('Could not read:', image_file, ':', e, '- it\\'s ok, skipping.')\n",
    "    \n",
    "  dataset = dataset[0:num_images, :, :]\n",
    "  if num_images < min_num_images:\n",
    "    raise Exception('Many fewer images than expected: %d < %d' %\n",
    "                    (num_images, min_num_images))\n",
    "    \n",
    "  print('Full dataset tensor:', dataset.shape)\n",
    "  print('Mean:', np.mean(dataset))\n",
    "  print('Standard deviation:', np.std(dataset))\n",
    "  return dataset\n",
    "        \n",
    "def maybe_pickle(raiz, data_folders, min_num_images_per_class, force=False):\n",
    "  dataset_names = []\n",
    "  for folder in data_folders:\n",
    "    set_filename = raiz + folder + '.pickle'\n",
    "    dataset_names.append(set_filename)\n",
    "    if os.path.exists(set_filename) and not force:\n",
    "      # You may override by setting force=True.\n",
    "      print('%s already present - Skipping pickling.' % set_filename)\n",
    "    else:\n",
    "      print('Pickling %s.' % set_filename)\n",
    "      dataset = load_letter(raiz+folder, min_num_images_per_class)\n",
    "      try:\n",
    "        with open(set_filename, 'wb') as f:\n",
    "          pickle.dump(dataset, f, pickle.HIGHEST_PROTOCOL)\n",
    "      except Exception as e:\n",
    "        print('Unable to save data to', set_filename, ':', e)\n",
    "  \n",
    "  return dataset_names\n",
    "\n",
    "train_datasets = maybe_pickle(data_root+'notMNIST_large/', train_folders, 45000)\n",
    "test_datasets = maybe_pickle(data_root+'notMNIST_small/', test_folders, 1800)"
   ]
  },
  {
   "cell_type": "markdown",
   "metadata": {},
   "source": [
    "# Problem 2\n",
    "Let's verify that the data still looks good. Displaying a sample of the labels and images from the ndarray. Hint: you can use matplotlib.pyplot."
   ]
  },
  {
   "cell_type": "code",
   "execution_count": 31,
   "metadata": {},
   "outputs": [],
   "source": [
    "def maybe_unpickle(raiz, data_folder):\n",
    "    set_filename = raiz + data_folder\n",
    "    dataset = None\n",
    "\n",
    "    if os.path.exists(set_filename):\n",
    "        print('Deserializando %s.' % set_filename)\n",
    "        try:\n",
    "            with open(set_filename, 'rb') as f:\n",
    "                dataset = pickle.load(f, fix_imports=True, encoding=\"ASCII\", errors=\"strict\")\n",
    "        except Exception as e:\n",
    "            print('Unable to load data to', set_filename, ':', e)\n",
    "    else:\n",
    "        print('%s unable file - Skipping unpickling.' % set_filename) \n",
    "    return dataset\n",
    "\n",
    "def muestra_letras(root, dicc, n):\n",
    "    for label, file in dicc.items():\n",
    "        datos = maybe_unpickle(root, file)\n",
    "        est_muestra = np.sort(np.random.randint(0, len(datos), size= n))\n",
    "        print(label)\n",
    "        \n",
    "        for estrac_muestra in est_muestra:\n",
    "            ver_letra(datos[estrac_muestra])\n",
    "    return\n",
    "\n",
    "def ver_letra(datos, titulo = '', guarda = False, figsize = .70):\n",
    "    imgplot = plt.figure(figsize=[figsize, figsize] ) # equivalencia entre pulgadas y pixeles\n",
    "    imgplot = plt.axis('off')\n",
    "    imgplot = plt.gray()\n",
    "    imgplot = plt.title(titulo)\n",
    "    imgplot = plt.imshow(datos)\n",
    "\n",
    "    if not guarda:\n",
    "        plt.show()\n",
    "\n",
    "    return imgplot\n",
    "\n",
    "def label_real(num):\n",
    "    dic = {0:'A', 1:'B', 2:'C', 3:'D', 4:'E', 5:'F', 6:'G', 7:'H', 8:'I', 9:'J'}\n",
    "    letra = dic[num]\n",
    "    return letra\n"
   ]
  },
  {
   "cell_type": "code",
   "execution_count": 7,
   "metadata": {},
   "outputs": [],
   "source": [
    "train_dic = {train_folders[i]: train_folders[i+1] for i in range(0, len(train_folders), 2)}\n",
    "\n",
    "test_dic = {test_folders[i]: test_folders[i+1] for i in range(0, len(test_folders), 2)}\n",
    "\n",
    "tam_muestra = 3 # tres muestras por cada letra\n",
    "\n",
    "root_train = data_root+'notMNIST_large/'\n",
    "root_test  = data_root+'notMNIST_small/'"
   ]
  },
  {
   "cell_type": "code",
   "execution_count": 6,
   "metadata": {
    "scrolled": false
   },
   "outputs": [
    {
     "name": "stdout",
     "output_type": "stream",
     "text": [
      "C:/Users/Luis/Documents/Ciencia de Datos/DatasetDeeplearnig/notMNIST_large/A.pickle\n",
      "Deserializando C:/Users/Luis/Documents/Ciencia de Datos/DatasetDeeplearnig/notMNIST_large/A.pickle.\n",
      "A\n"
     ]
    },
    {
     "name": "stderr",
     "output_type": "stream",
     "text": [
      "C:\\Users\\Luis\\Anaconda3\\lib\\site-packages\\matplotlib\\cbook\\deprecation.py:107: MatplotlibDeprecationWarning: Adding an axes using the same arguments as a previous axes currently reuses the earlier instance.  In a future version, a new instance will always be created and returned.  Meanwhile, this warning can be suppressed, and the future behavior ensured, by passing a unique label to each axes instance.\n",
      "  warnings.warn(message, mplDeprecation, stacklevel=1)\n"
     ]
    },
    {
     "data": {
      "image/png": "[encoded data removed]",
      "text/plain": [
       "<Figure size 20.16x20.16 with 1 Axes>"
      ]
     },
     "metadata": {
      "needs_background": "light"
     },
     "output_type": "display_data"
    },
    {
     "data": {
      "image/png": "[encoded data removed]",
      "text/plain": [
       "<Figure size 20.16x20.16 with 1 Axes>"
      ]
     },
     "metadata": {
      "needs_background": "light"
     },
     "output_type": "display_data"
    },
    {
     "data": {
      "image/png": "[encoded data removed]",
      "text/plain": [
       "<Figure size 20.16x20.16 with 1 Axes>"
      ]
     },
     "metadata": {
      "needs_background": "light"
     },
     "output_type": "display_data"
    },
    {
     "name": "stdout",
     "output_type": "stream",
     "text": [
      "C:/Users/Luis/Documents/Ciencia de Datos/DatasetDeeplearnig/notMNIST_large/B.pickle\n",
      "Deserializando C:/Users/Luis/Documents/Ciencia de Datos/DatasetDeeplearnig/notMNIST_large/B.pickle.\n",
      "B\n"
     ]
    },
    {
     "data": {
      "image/png": "[encoded data removed]",
      "text/plain": [
       "<Figure size 20.16x20.16 with 1 Axes>"
      ]
     },
     "metadata": {
      "needs_background": "light"
     },
     "output_type": "display_data"
    },
    {
     "data": {
      "image/png": "[encoded data removed]",
      "text/plain": [
       "<Figure size 20.16x20.16 with 1 Axes>"
      ]
     },
     "metadata": {
      "needs_background": "light"
     },
     "output_type": "display_data"
    },
    {
     "data": {
      "image/png": "[encoded data removed]",
      "text/plain": [
       "<Figure size 20.16x20.16 with 1 Axes>"
      ]
     },
     "metadata": {
      "needs_background": "light"
     },
     "output_type": "display_data"
    },
    {
     "name": "stdout",
     "output_type": "stream",
     "text": [
      "C:/Users/Luis/Documents/Ciencia de Datos/DatasetDeeplearnig/notMNIST_large/C.pickle\n",
      "Deserializando C:/Users/Luis/Documents/Ciencia de Datos/DatasetDeeplearnig/notMNIST_large/C.pickle.\n",
      "C\n"
     ]
    },
    {
     "data": {
      "image/png": "[encoded data removed]",
      "text/plain": [
       "<Figure size 20.16x20.16 with 1 Axes>"
      ]
     },
     "metadata": {
      "needs_background": "light"
     },
     "output_type": "display_data"
    },
    {
     "data": {
      "image/png": "[encoded data removed]",
      "text/plain": [
       "<Figure size 20.16x20.16 with 1 Axes>"
      ]
     },
     "metadata": {
      "needs_background": "light"
     },
     "output_type": "display_data"
    },
    {
     "data": {
      "image/png": "[encoded data removed]",
      "text/plain": [
       "<Figure size 20.16x20.16 with 1 Axes>"
      ]
     },
     "metadata": {
      "needs_background": "light"
     },
     "output_type": "display_data"
    },
    {
     "name": "stdout",
     "output_type": "stream",
     "text": [
      "C:/Users/Luis/Documents/Ciencia de Datos/DatasetDeeplearnig/notMNIST_large/D.pickle\n",
      "Deserializando C:/Users/Luis/Documents/Ciencia de Datos/DatasetDeeplearnig/notMNIST_large/D.pickle.\n",
      "D\n"
     ]
    },
    {
     "data": {
      "image/png": "[encoded data removed]",
      "text/plain": [
       "<Figure size 20.16x20.16 with 1 Axes>"
      ]
     },
     "metadata": {
      "needs_background": "light"
     },
     "output_type": "display_data"
    },
    {
     "data": {
      "image/png": "[encoded data removed]",
      "text/plain": [
       "<Figure size 20.16x20.16 with 1 Axes>"
      ]
     },
     "metadata": {
      "needs_background": "light"
     },
     "output_type": "display_data"
    },
    {
     "data": {
      "image/png": "[encoded data removed]",
      "text/plain": [
       "<Figure size 20.16x20.16 with 1 Axes>"
      ]
     },
     "metadata": {
      "needs_background": "light"
     },
     "output_type": "display_data"
    },
    {
     "name": "stdout",
     "output_type": "stream",
     "text": [
      "C:/Users/Luis/Documents/Ciencia de Datos/DatasetDeeplearnig/notMNIST_large/E.pickle\n",
      "Deserializando C:/Users/Luis/Documents/Ciencia de Datos/DatasetDeeplearnig/notMNIST_large/E.pickle.\n",
      "E\n"
     ]
    },
    {
     "data": {
      "image/png": "[encoded data removed]",
      "text/plain": [
       "<Figure size 20.16x20.16 with 1 Axes>"
      ]
     },
     "metadata": {
      "needs_background": "light"
     },
     "output_type": "display_data"
    },
    {
     "data": {
      "image/png": "[encoded data removed]",
      "text/plain": [
       "<Figure size 20.16x20.16 with 1 Axes>"
      ]
     },
     "metadata": {
      "needs_background": "light"
     },
     "output_type": "display_data"
    },
    {
     "data": {
      "image/png": "[encoded data removed]",
      "text/plain": [
       "<Figure size 20.16x20.16 with 1 Axes>"
      ]
     },
     "metadata": {
      "needs_background": "light"
     },
     "output_type": "display_data"
    },
    {
     "name": "stdout",
     "output_type": "stream",
     "text": [
      "C:/Users/Luis/Documents/Ciencia de Datos/DatasetDeeplearnig/notMNIST_large/F.pickle\n",
      "Deserializando C:/Users/Luis/Documents/Ciencia de Datos/DatasetDeeplearnig/notMNIST_large/F.pickle.\n",
      "F\n"
     ]
    },
    {
     "data": {
      "image/png": "[encoded data removed]",
      "text/plain": [
       "<Figure size 20.16x20.16 with 1 Axes>"
      ]
     },
     "metadata": {
      "needs_background": "light"
     },
     "output_type": "display_data"
    },
    {
     "data": {
      "image/png": "[encoded data removed]",
      "text/plain": [
       "<Figure size 20.16x20.16 with 1 Axes>"
      ]
     },
     "metadata": {
      "needs_background": "light"
     },
     "output_type": "display_data"
    },
    {
     "data": {
      "image/png": "[encoded data removed]",
      "text/plain": [
       "<Figure size 20.16x20.16 with 1 Axes>"
      ]
     },
     "metadata": {
      "needs_background": "light"
     },
     "output_type": "display_data"
    },
    {
     "name": "stdout",
     "output_type": "stream",
     "text": [
      "C:/Users/Luis/Documents/Ciencia de Datos/DatasetDeeplearnig/notMNIST_large/G.pickle\n",
      "Deserializando C:/Users/Luis/Documents/Ciencia de Datos/DatasetDeeplearnig/notMNIST_large/G.pickle.\n",
      "G\n"
     ]
    },
    {
     "data": {
      "image/png": "[encoded data removed]",
      "text/plain": [
       "<Figure size 20.16x20.16 with 1 Axes>"
      ]
     },
     "metadata": {
      "needs_background": "light"
     },
     "output_type": "display_data"
    },
    {
     "data": {
      "image/png": "[encoded data removed]",
      "text/plain": [
       "<Figure size 20.16x20.16 with 1 Axes>"
      ]
     },
     "metadata": {
      "needs_background": "light"
     },
     "output_type": "display_data"
    },
    {
     "data": {
      "image/png": "[encoded data removed]",
      "text/plain": [
       "<Figure size 20.16x20.16 with 1 Axes>"
      ]
     },
     "metadata": {
      "needs_background": "light"
     },
     "output_type": "display_data"
    },
    {
     "name": "stdout",
     "output_type": "stream",
     "text": [
      "C:/Users/Luis/Documents/Ciencia de Datos/DatasetDeeplearnig/notMNIST_large/H.pickle\n",
      "Deserializando C:/Users/Luis/Documents/Ciencia de Datos/DatasetDeeplearnig/notMNIST_large/H.pickle.\n",
      "H\n"
     ]
    },
    {
     "data": {
      "image/png": "[encoded data removed]",
      "text/plain": [
       "<Figure size 20.16x20.16 with 1 Axes>"
      ]
     },
     "metadata": {
      "needs_background": "light"
     },
     "output_type": "display_data"
    },
    {
     "data": {
      "image/png": "[encoded data removed]",
      "text/plain": [
       "<Figure size 20.16x20.16 with 1 Axes>"
      ]
     },
     "metadata": {
      "needs_background": "light"
     },
     "output_type": "display_data"
    },
    {
     "data": {
      "image/png": "[encoded data removed]",
      "text/plain": [
       "<Figure size 20.16x20.16 with 1 Axes>"
      ]
     },
     "metadata": {
      "needs_background": "light"
     },
     "output_type": "display_data"
    },
    {
     "name": "stdout",
     "output_type": "stream",
     "text": [
      "C:/Users/Luis/Documents/Ciencia de Datos/DatasetDeeplearnig/notMNIST_large/I.pickle\n",
      "Deserializando C:/Users/Luis/Documents/Ciencia de Datos/DatasetDeeplearnig/notMNIST_large/I.pickle.\n",
      "I\n"
     ]
    },
    {
     "data": {
      "image/png": "[encoded data removed]",
      "text/plain": [
       "<Figure size 20.16x20.16 with 1 Axes>"
      ]
     },
     "metadata": {
      "needs_background": "light"
     },
     "output_type": "display_data"
    },
    {
     "data": {
      "image/png": "[encoded data removed]",
      "text/plain": [
       "<Figure size 20.16x20.16 with 1 Axes>"
      ]
     },
     "metadata": {
      "needs_background": "light"
     },
     "output_type": "display_data"
    },
    {
     "data": {
      "image/png": "[encoded data removed]",
      "text/plain": [
       "<Figure size 20.16x20.16 with 1 Axes>"
      ]
     },
     "metadata": {
      "needs_background": "light"
     },
     "output_type": "display_data"
    },
    {
     "name": "stdout",
     "output_type": "stream",
     "text": [
      "C:/Users/Luis/Documents/Ciencia de Datos/DatasetDeeplearnig/notMNIST_large/J.pickle\n",
      "Deserializando C:/Users/Luis/Documents/Ciencia de Datos/DatasetDeeplearnig/notMNIST_large/J.pickle.\n",
      "J\n"
     ]
    },
    {
     "data": {
      "image/png": "[encoded data removed]",
      "text/plain": [
       "<Figure size 20.16x20.16 with 1 Axes>"
      ]
     },
     "metadata": {
      "needs_background": "light"
     },
     "output_type": "display_data"
    },
    {
     "data": {
      "image/png": "[encoded data removed]",
      "text/plain": [
       "<Figure size 20.16x20.16 with 1 Axes>"
      ]
     },
     "metadata": {
      "needs_background": "light"
     },
     "output_type": "display_data"
    },
    {
     "data": {
      "image/png": "[encoded data removed]",
      "text/plain": [
       "<Figure size 20.16x20.16 with 1 Axes>"
      ]
     },
     "metadata": {
      "needs_background": "light"
     },
     "output_type": "display_data"
    }
   ],
   "source": [
    "muestra_letras(root_train, train_dic, tam_muestra)\n",
    "\n",
    "# muestra_letras(root_test, test_dic, tam_muestra)"
   ]
  },
  {
   "cell_type": "markdown",
   "metadata": {},
   "source": [
    "# Problem 3\n",
    "Another check: we expect the data to be balanced across classes. Verify that."
   ]
  },
  {
   "cell_type": "code",
   "execution_count": 20,
   "metadata": {},
   "outputs": [],
   "source": [
    "# para hacer check vamos a recorrer ambos diccionarios (test y train), para modificar\n",
    "# el valor agregando ademas de archivo de almacenamiento, la cantidad de unidades de \n",
    "# datos que contiene\n",
    "\n",
    "def cant_letras(root, dicc):\n",
    "    cantidad = []\n",
    "    for label, file in dicc.items():\n",
    "        datos = maybe_unpickle(root, file)\n",
    "        print('-')\n",
    "        cantidad.append(len(datos))\n",
    "    return cantidad\n",
    "\n",
    "def dic_builder(root, folder_pri, dic):\n",
    "    label = [letra for letra in folder_pri if len(letra)==1]\n",
    "    cant = cant_letras(root, dic)\n",
    "    data = dict(zip(label, cant))\n",
    "    return data\n",
    "\n",
    "def plt_bar(dat, title):\n",
    "    plt.bar(range(len(dat)), list(dat.values()), align='center')\n",
    "    plt.xticks(range(len(dat)), list(dat.keys()))\n",
    "    plt.title(title)\n",
    "    plt.show()"
   ]
  },
  {
   "cell_type": "code",
   "execution_count": 21,
   "metadata": {},
   "outputs": [
    {
     "name": "stdout",
     "output_type": "stream",
     "text": [
      "C:/Users/Luis/Documents/Ciencia de Datos/DatasetDeeplearnig/notMNIST_large/A.pickle\n",
      "Deserializando C:/Users/Luis/Documents/Ciencia de Datos/DatasetDeeplearnig/notMNIST_large/A.pickle.\n",
      "-\n",
      "C:/Users/Luis/Documents/Ciencia de Datos/DatasetDeeplearnig/notMNIST_large/B.pickle\n",
      "Deserializando C:/Users/Luis/Documents/Ciencia de Datos/DatasetDeeplearnig/notMNIST_large/B.pickle.\n",
      "-\n",
      "C:/Users/Luis/Documents/Ciencia de Datos/DatasetDeeplearnig/notMNIST_large/C.pickle\n",
      "Deserializando C:/Users/Luis/Documents/Ciencia de Datos/DatasetDeeplearnig/notMNIST_large/C.pickle.\n",
      "-\n",
      "C:/Users/Luis/Documents/Ciencia de Datos/DatasetDeeplearnig/notMNIST_large/D.pickle\n",
      "Deserializando C:/Users/Luis/Documents/Ciencia de Datos/DatasetDeeplearnig/notMNIST_large/D.pickle.\n",
      "-\n",
      "C:/Users/Luis/Documents/Ciencia de Datos/DatasetDeeplearnig/notMNIST_large/E.pickle\n",
      "Deserializando C:/Users/Luis/Documents/Ciencia de Datos/DatasetDeeplearnig/notMNIST_large/E.pickle.\n",
      "-\n",
      "C:/Users/Luis/Documents/Ciencia de Datos/DatasetDeeplearnig/notMNIST_large/F.pickle\n",
      "Deserializando C:/Users/Luis/Documents/Ciencia de Datos/DatasetDeeplearnig/notMNIST_large/F.pickle.\n",
      "-\n",
      "C:/Users/Luis/Documents/Ciencia de Datos/DatasetDeeplearnig/notMNIST_large/G.pickle\n",
      "Deserializando C:/Users/Luis/Documents/Ciencia de Datos/DatasetDeeplearnig/notMNIST_large/G.pickle.\n",
      "-\n",
      "C:/Users/Luis/Documents/Ciencia de Datos/DatasetDeeplearnig/notMNIST_large/H.pickle\n",
      "Deserializando C:/Users/Luis/Documents/Ciencia de Datos/DatasetDeeplearnig/notMNIST_large/H.pickle.\n",
      "-\n",
      "C:/Users/Luis/Documents/Ciencia de Datos/DatasetDeeplearnig/notMNIST_large/I.pickle\n",
      "Deserializando C:/Users/Luis/Documents/Ciencia de Datos/DatasetDeeplearnig/notMNIST_large/I.pickle.\n",
      "-\n",
      "C:/Users/Luis/Documents/Ciencia de Datos/DatasetDeeplearnig/notMNIST_large/J.pickle\n",
      "Deserializando C:/Users/Luis/Documents/Ciencia de Datos/DatasetDeeplearnig/notMNIST_large/J.pickle.\n",
      "-\n",
      "C:/Users/Luis/Documents/Ciencia de Datos/DatasetDeeplearnig/notMNIST_small/A.pickle\n",
      "Deserializando C:/Users/Luis/Documents/Ciencia de Datos/DatasetDeeplearnig/notMNIST_small/A.pickle.\n",
      "-\n",
      "C:/Users/Luis/Documents/Ciencia de Datos/DatasetDeeplearnig/notMNIST_small/B.pickle\n",
      "Deserializando C:/Users/Luis/Documents/Ciencia de Datos/DatasetDeeplearnig/notMNIST_small/B.pickle.\n",
      "-\n",
      "C:/Users/Luis/Documents/Ciencia de Datos/DatasetDeeplearnig/notMNIST_small/C.pickle\n",
      "Deserializando C:/Users/Luis/Documents/Ciencia de Datos/DatasetDeeplearnig/notMNIST_small/C.pickle.\n",
      "-\n",
      "C:/Users/Luis/Documents/Ciencia de Datos/DatasetDeeplearnig/notMNIST_small/D.pickle\n",
      "Deserializando C:/Users/Luis/Documents/Ciencia de Datos/DatasetDeeplearnig/notMNIST_small/D.pickle.\n",
      "-\n",
      "C:/Users/Luis/Documents/Ciencia de Datos/DatasetDeeplearnig/notMNIST_small/E.pickle\n",
      "Deserializando C:/Users/Luis/Documents/Ciencia de Datos/DatasetDeeplearnig/notMNIST_small/E.pickle.\n",
      "-\n",
      "C:/Users/Luis/Documents/Ciencia de Datos/DatasetDeeplearnig/notMNIST_small/F.pickle\n",
      "Deserializando C:/Users/Luis/Documents/Ciencia de Datos/DatasetDeeplearnig/notMNIST_small/F.pickle.\n",
      "-\n",
      "C:/Users/Luis/Documents/Ciencia de Datos/DatasetDeeplearnig/notMNIST_small/G.pickle\n",
      "Deserializando C:/Users/Luis/Documents/Ciencia de Datos/DatasetDeeplearnig/notMNIST_small/G.pickle.\n",
      "-\n",
      "C:/Users/Luis/Documents/Ciencia de Datos/DatasetDeeplearnig/notMNIST_small/H.pickle\n",
      "Deserializando C:/Users/Luis/Documents/Ciencia de Datos/DatasetDeeplearnig/notMNIST_small/H.pickle.\n",
      "-\n",
      "C:/Users/Luis/Documents/Ciencia de Datos/DatasetDeeplearnig/notMNIST_small/I.pickle\n",
      "Deserializando C:/Users/Luis/Documents/Ciencia de Datos/DatasetDeeplearnig/notMNIST_small/I.pickle.\n",
      "-\n",
      "C:/Users/Luis/Documents/Ciencia de Datos/DatasetDeeplearnig/notMNIST_small/J.pickle\n",
      "Deserializando C:/Users/Luis/Documents/Ciencia de Datos/DatasetDeeplearnig/notMNIST_small/J.pickle.\n",
      "-\n"
     ]
    },
    {
     "data": {
      "image/png": "[encoded data removed]",
      "text/plain": [
       "<Figure size 432x288 with 1 Axes>"
      ]
     },
     "metadata": {
      "needs_background": "light"
     },
     "output_type": "display_data"
    },
    {
     "data": {
      "image/png": "[encoded data removed]",
      "text/plain": [
       "<Figure size 432x288 with 1 Axes>"
      ]
     },
     "metadata": {
      "needs_background": "light"
     },
     "output_type": "display_data"
    }
   ],
   "source": [
    "train_dat = dic_builder(root_train, train_folders, train_dic)\n",
    "test_dat = dic_builder(root_test, test_folders, test_dic)\n",
    "\n",
    "tits = ['Grupo de Entrenamiento', 'Grupo de Prueba']\n",
    "dats = [train_dat, test_dat]\n",
    "\n",
    "data = dict(zip(tits, dats))\n",
    "\n",
    "for tit, dat in data.items():\n",
    "    plt_bar(dat, tit)\n",
    "\n",
    "# data to be balanced across classes"
   ]
  },
  {
   "cell_type": "markdown",
   "metadata": {},
   "source": [
    "Merge and prune the training data as needed. Depending on your computer setup, you might not be able to fit it all in memory, and you can tune train_size as needed. The labels will be stored into a separate array of integers 0 through 9.\n",
    "\n",
    "Also create a validation dataset for hyperparameter tuning."
   ]
  },
  {
   "cell_type": "code",
   "execution_count": 9,
   "metadata": {},
   "outputs": [],
   "source": [
    "def make_arrays(nb_rows, img_size):\n",
    "  if nb_rows:\n",
    "    dataset = np.ndarray((nb_rows, img_size, img_size), dtype=np.float32)\n",
    "    labels = np.ndarray(nb_rows, dtype=np.int32)\n",
    "  else:\n",
    "    dataset, labels = None, None\n",
    "  return dataset, labels\n",
    "\n",
    "def merge_datasets(pickle_files, train_size, valid_size=0):\n",
    "  num_classes = len(pickle_files)\n",
    "  valid_dataset, valid_labels = make_arrays(valid_size, image_size)\n",
    "  train_dataset, train_labels = make_arrays(train_size, image_size)\n",
    "  vsize_per_class = valid_size // num_classes\n",
    "  tsize_per_class = train_size // num_classes\n",
    "    \n",
    "  start_v, start_t = 0, 0\n",
    "  end_v, end_t = vsize_per_class, tsize_per_class\n",
    "  end_l = vsize_per_class+tsize_per_class\n",
    "  for label, pickle_file in enumerate(pickle_files):       \n",
    "    try:\n",
    "      with open(pickle_file, 'rb') as f:\n",
    "        letter_set = pickle.load(f)\n",
    "        # let's shuffle the letters to have random validation and training set\n",
    "        np.random.shuffle(letter_set)\n",
    "        if valid_dataset is not None:\n",
    "          valid_letter = letter_set[:vsize_per_class, :, :]\n",
    "          valid_dataset[start_v:end_v, :, :] = valid_letter\n",
    "          valid_labels[start_v:end_v] = label\n",
    "          start_v += vsize_per_class\n",
    "          end_v += vsize_per_class\n",
    "                    \n",
    "        train_letter = letter_set[vsize_per_class:end_l, :, :]\n",
    "        train_dataset[start_t:end_t, :, :] = train_letter\n",
    "        train_labels[start_t:end_t] = label\n",
    "        start_t += tsize_per_class\n",
    "        end_t += tsize_per_class\n",
    "    except Exception as e:\n",
    "      print('Unable to process data from', pickle_file, ':', e)\n",
    "      raise\n",
    "    \n",
    "  return valid_dataset, valid_labels, train_dataset, train_labels"
   ]
  },
  {
   "cell_type": "code",
   "execution_count": 10,
   "metadata": {},
   "outputs": [
    {
     "name": "stdout",
     "output_type": "stream",
     "text": [
      "Training: (50000, 28, 28) (50000,)\n",
      "Validation: (10000, 28, 28) (10000,)\n",
      "Testing: (10000, 28, 28) (10000,)\n"
     ]
    }
   ],
   "source": [
    "# train_dic y test_dic se obtienen en resolucion de problema 2 (muestra de imagenes)\n",
    "# image_size se obtiene en probl 1\n",
    "\n",
    "image_size = 28  # Pixel width and height.\n",
    "train_datasets = [root_train+nombre for nombre in list(train_dic.values())]\n",
    "test_datasets  = [root_test+nombre for nombre in list(test_dic.values())]\n",
    "\n",
    "train_size = 50000\n",
    "valid_size = 10000\n",
    "test_size = 10000\n",
    "\n",
    "valid_dataset, valid_labels, train_dataset, train_labels = merge_datasets(\n",
    "  train_datasets, train_size, valid_size)\n",
    "_, _, test_dataset, test_labels = merge_datasets(test_datasets, test_size)\n",
    "\n",
    "print('Training:', train_dataset.shape, train_labels.shape)\n",
    "print('Validation:', valid_dataset.shape, valid_labels.shape)\n",
    "print('Testing:', test_dataset.shape, test_labels.shape)\n"
   ]
  },
  {
   "cell_type": "markdown",
   "metadata": {},
   "source": [
    "Next, we'll randomize the data. It's important to have the labels well shuffled for the training and test distributions to match."
   ]
  },
  {
   "cell_type": "code",
   "execution_count": 11,
   "metadata": {},
   "outputs": [],
   "source": [
    "def randomize(dataset, labels):\n",
    "  permutation = np.random.permutation(labels.shape[0])\n",
    "  shuffled_dataset = dataset[permutation,:,:]\n",
    "  shuffled_labels = labels[permutation]\n",
    "  return shuffled_dataset, shuffled_labels\n",
    "\n",
    "# Next, we'll randomize the data. \n",
    "# It's important to have the labels well shuffled for the training\n",
    "# and test distributions to match\n",
    "train_dataset, train_labels = randomize(train_dataset, train_labels)\n",
    "test_dataset, test_labels = randomize(test_dataset, test_labels)\n",
    "valid_dataset, valid_labels = randomize(valid_dataset, valid_labels)\n",
    "\n"
   ]
  },
  {
   "cell_type": "markdown",
   "metadata": {},
   "source": [
    "# Problem 4\n",
    "Convince yourself that the data is still good after shuffling!"
   ]
  },
  {
   "cell_type": "code",
   "execution_count": 12,
   "metadata": {},
   "outputs": [],
   "source": [
    "# tamaño de muestra = 30 je je\n",
    "\n",
    "t_muestra = 30 # para cada conjunto de datos (label)\n",
    "ndatos = [train_labels.shape, valid_labels.shape, test_labels.shape]\n",
    "muestras = [np.sort(np.random.randint(0, ndato[0]-1, size= t_muestra)) for ndato in ndatos]\n",
    "\n",
    "pob_dat = ['train_dataset', 'valid_dataset', 'test_dataset']\n",
    "pob_lab = ['train_labels', 'valid_labels', 'test_labels']\n",
    "\n",
    "data  = dict(zip(pob_dat, muestras))\n",
    "label = dict(zip(pob_lab, muestras))\n",
    "\n",
    "# extrayendo las muestras y ..\n",
    "for tit, dat in data.items():\n",
    "    pobl = vars()[tit]\n",
    "    data[tit] = pobl[dat]\n",
    "# sus respectivas labels,\n",
    "for tit, dat in label.items():\n",
    "    pobl = vars()[tit]\n",
    "    label[tit] = pobl[dat] #~.\n",
    "\n",
    "data  = { k.replace(k, k[0:k.find('_')]): v for k, v in data.items()  }\n",
    "label = { k.replace(k, k[0:k.find('_')]): v for k, v in label.items() }\n",
    "\n"
   ]
  },
  {
   "cell_type": "code",
   "execution_count": 13,
   "metadata": {},
   "outputs": [
    {
     "name": "stdout",
     "output_type": "stream",
     "text": [
      "-/-/-/-/-/-/-/-/-/-/-/-/-/\n",
      "Conjunto:  train\n"
     ]
    },
    {
     "data": {
      "image/png": "[encoded data removed]",
      "text/plain": [
       "<Figure size 50.4x50.4 with 1 Axes>"
      ]
     },
     "metadata": {
      "needs_background": "light"
     },
     "output_type": "display_data"
    },
    {
     "data": {
      "image/png": "[encoded data removed]",
      "text/plain": [
       "<Figure size 50.4x50.4 with 1 Axes>"
      ]
     },
     "metadata": {
      "needs_background": "light"
     },
     "output_type": "display_data"
    },
    {
     "data": {
      "image/png": "[encoded data removed]",
      "text/plain": [
       "<Figure size 50.4x50.4 with 1 Axes>"
      ]
     },
     "metadata": {
      "needs_background": "light"
     },
     "output_type": "display_data"
    },
    {
     "data": {
      "image/png": "[encoded data removed]",
      "text/plain": [
       "<Figure size 50.4x50.4 with 1 Axes>"
      ]
     },
     "metadata": {
      "needs_background": "light"
     },
     "output_type": "display_data"
    },
    {
     "data": {
      "image/png": "[encoded data removed]",
      "text/plain": [
       "<Figure size 50.4x50.4 with 1 Axes>"
      ]
     },
     "metadata": {
      "needs_background": "light"
     },
     "output_type": "display_data"
    },
    {
     "data": {
      "image/png": "[encoded data removed]",
      "text/plain": [
       "<Figure size 50.4x50.4 with 1 Axes>"
      ]
     },
     "metadata": {
      "needs_background": "light"
     },
     "output_type": "display_data"
    },
    {
     "data": {
      "image/png": "[encoded data removed]",
      "text/plain": [
       "<Figure size 50.4x50.4 with 1 Axes>"
      ]
     },
     "metadata": {
      "needs_background": "light"
     },
     "output_type": "display_data"
    },
    {
     "data": {
      "image/png": "[encoded data removed]",
      "text/plain": [
       "<Figure size 50.4x50.4 with 1 Axes>"
      ]
     },
     "metadata": {
      "needs_background": "light"
     },
     "output_type": "display_data"
    },
    {
     "data": {
      "image/png": "[encoded data removed]",
      "text/plain": [
       "<Figure size 50.4x50.4 with 1 Axes>"
      ]
     },
     "metadata": {
      "needs_background": "light"
     },
     "output_type": "display_data"
    },
    {
     "data": {
      "image/png": "[encoded data removed]",
      "text/plain": [
       "<Figure size 50.4x50.4 with 1 Axes>"
      ]
     },
     "metadata": {
      "needs_background": "light"
     },
     "output_type": "display_data"
    },
    {
     "data": {
      "image/png": "[encoded data removed]",
      "text/plain": [
       "<Figure size 50.4x50.4 with 1 Axes>"
      ]
     },
     "metadata": {
      "needs_background": "light"
     },
     "output_type": "display_data"
    },
    {
     "data": {
      "image/png": "[encoded data removed]",
      "text/plain": [
       "<Figure size 50.4x50.4 with 1 Axes>"
      ]
     },
     "metadata": {
      "needs_background": "light"
     },
     "output_type": "display_data"
    },
    {
     "data": {
      "image/png": "[encoded data removed]",
      "text/plain": [
       "<Figure size 50.4x50.4 with 1 Axes>"
      ]
     },
     "metadata": {
      "needs_background": "light"
     },
     "output_type": "display_data"
    },
    {
     "data": {
      "image/png": "[encoded data removed]",
      "text/plain": [
       "<Figure size 50.4x50.4 with 1 Axes>"
      ]
     },
     "metadata": {
      "needs_background": "light"
     },
     "output_type": "display_data"
    },
    {
     "data": {
      "image/png": "[encoded data removed]",
      "text/plain": [
       "<Figure size 50.4x50.4 with 1 Axes>"
      ]
     },
     "metadata": {
      "needs_background": "light"
     },
     "output_type": "display_data"
    },
    {
     "data": {
      "image/png": "[encoded data removed]",
      "text/plain": [
       "<Figure size 50.4x50.4 with 1 Axes>"
      ]
     },
     "metadata": {
      "needs_background": "light"
     },
     "output_type": "display_data"
    },
    {
     "data": {
      "image/png": "[encoded data removed]",
      "text/plain": [
       "<Figure size 50.4x50.4 with 1 Axes>"
      ]
     },
     "metadata": {
      "needs_background": "light"
     },
     "output_type": "display_data"
    },
    {
     "data": {
      "image/png": "[encoded data removed]",
      "text/plain": [
       "<Figure size 50.4x50.4 with 1 Axes>"
      ]
     },
     "metadata": {
      "needs_background": "light"
     },
     "output_type": "display_data"
    },
    {
     "data": {
      "image/png": "[encoded data removed]",
      "text/plain": [
       "<Figure size 50.4x50.4 with 1 Axes>"
      ]
     },
     "metadata": {
      "needs_background": "light"
     },
     "output_type": "display_data"
    },
    {
     "data": {
      "image/png": "[encoded data removed]",
      "text/plain": [
       "<Figure size 50.4x50.4 with 1 Axes>"
      ]
     },
     "metadata": {
      "needs_background": "light"
     },
     "output_type": "display_data"
    },
    {
     "data": {
      "image/png": "[encoded data removed]",
      "text/plain": [
       "<Figure size 50.4x50.4 with 1 Axes>"
      ]
     },
     "metadata": {
      "needs_background": "light"
     },
     "output_type": "display_data"
    },
    {
     "data": {
      "image/png": "[encoded data removed]",
      "text/plain": [
       "<Figure size 50.4x50.4 with 1 Axes>"
      ]
     },
     "metadata": {
      "needs_background": "light"
     },
     "output_type": "display_data"
    },
    {
     "data": {
      "image/png": "[encoded data removed]",
      "text/plain": [
       "<Figure size 50.4x50.4 with 1 Axes>"
      ]
     },
     "metadata": {
      "needs_background": "light"
     },
     "output_type": "display_data"
    },
    {
     "data": {
      "image/png": "[encoded data removed]",
      "text/plain": [
       "<Figure size 50.4x50.4 with 1 Axes>"
      ]
     },
     "metadata": {
      "needs_background": "light"
     },
     "output_type": "display_data"
    },
    {
     "data": {
      "image/png": "[encoded data removed]",
      "text/plain": [
       "<Figure size 50.4x50.4 with 1 Axes>"
      ]
     },
     "metadata": {
      "needs_background": "light"
     },
     "output_type": "display_data"
    },
    {
     "data": {
      "image/png": "[encoded data removed]",
      "text/plain": [
       "<Figure size 50.4x50.4 with 1 Axes>"
      ]
     },
     "metadata": {
      "needs_background": "light"
     },
     "output_type": "display_data"
    },
    {
     "data": {
      "image/png": "[encoded data removed]",
      "text/plain": [
       "<Figure size 50.4x50.4 with 1 Axes>"
      ]
     },
     "metadata": {
      "needs_background": "light"
     },
     "output_type": "display_data"
    },
    {
     "data": {
      "image/png": "[encoded data removed]",
      "text/plain": [
       "<Figure size 50.4x50.4 with 1 Axes>"
      ]
     },
     "metadata": {
      "needs_background": "light"
     },
     "output_type": "display_data"
    },
    {
     "data": {
      "image/png": "[encoded data removed]",
      "text/plain": [
       "<Figure size 50.4x50.4 with 1 Axes>"
      ]
     },
     "metadata": {
      "needs_background": "light"
     },
     "output_type": "display_data"
    },
    {
     "data": {
      "image/png": "[encoded data removed]",
      "text/plain": [
       "<Figure size 50.4x50.4 with 1 Axes>"
      ]
     },
     "metadata": {
      "needs_background": "light"
     },
     "output_type": "display_data"
    },
    {
     "name": "stdout",
     "output_type": "stream",
     "text": [
      "-/-/-/-/-/-/-/-/-/-/-/-/-/\n",
      "Conjunto:  valid\n"
     ]
    },
    {
     "data": {
      "image/png": "[encoded data removed]",
      "text/plain": [
       "<Figure size 50.4x50.4 with 1 Axes>"
      ]
     },
     "metadata": {
      "needs_background": "light"
     },
     "output_type": "display_data"
    },
    {
     "data": {
      "image/png": "[encoded data removed]",
      "text/plain": [
       "<Figure size 50.4x50.4 with 1 Axes>"
      ]
     },
     "metadata": {
      "needs_background": "light"
     },
     "output_type": "display_data"
    },
    {
     "data": {
      "image/png": "[encoded data removed]",
      "text/plain": [
       "<Figure size 50.4x50.4 with 1 Axes>"
      ]
     },
     "metadata": {
      "needs_background": "light"
     },
     "output_type": "display_data"
    },
    {
     "data": {
      "image/png": "[encoded data removed]",
      "text/plain": [
       "<Figure size 50.4x50.4 with 1 Axes>"
      ]
     },
     "metadata": {
      "needs_background": "light"
     },
     "output_type": "display_data"
    },
    {
     "data": {
      "image/png": "[encoded data removed]",
      "text/plain": [
       "<Figure size 50.4x50.4 with 1 Axes>"
      ]
     },
     "metadata": {
      "needs_background": "light"
     },
     "output_type": "display_data"
    },
    {
     "data": {
      "image/png": "[encoded data removed]",
      "text/plain": [
       "<Figure size 50.4x50.4 with 1 Axes>"
      ]
     },
     "metadata": {
      "needs_background": "light"
     },
     "output_type": "display_data"
    },
    {
     "data": {
      "image/png": "[encoded data removed]",
      "text/plain": [
       "<Figure size 50.4x50.4 with 1 Axes>"
      ]
     },
     "metadata": {
      "needs_background": "light"
     },
     "output_type": "display_data"
    },
    {
     "data": {
      "image/png": "[encoded data removed]",
      "text/plain": [
       "<Figure size 50.4x50.4 with 1 Axes>"
      ]
     },
     "metadata": {
      "needs_background": "light"
     },
     "output_type": "display_data"
    },
    {
     "data": {
      "image/png": "[encoded data removed]",
      "text/plain": [
       "<Figure size 50.4x50.4 with 1 Axes>"
      ]
     },
     "metadata": {
      "needs_background": "light"
     },
     "output_type": "display_data"
    },
    {
     "data": {
      "image/png": "[encoded data removed]",
      "text/plain": [
       "<Figure size 50.4x50.4 with 1 Axes>"
      ]
     },
     "metadata": {
      "needs_background": "light"
     },
     "output_type": "display_data"
    },
    {
     "data": {
      "image/png": "[encoded data removed]",
      "text/plain": [
       "<Figure size 50.4x50.4 with 1 Axes>"
      ]
     },
     "metadata": {
      "needs_background": "light"
     },
     "output_type": "display_data"
    },
    {
     "data": {
      "image/png": "[encoded data removed]",
      "text/plain": [
       "<Figure size 50.4x50.4 with 1 Axes>"
      ]
     },
     "metadata": {
      "needs_background": "light"
     },
     "output_type": "display_data"
    },
    {
     "data": {
      "image/png": "[encoded data removed]",
      "text/plain": [
       "<Figure size 50.4x50.4 with 1 Axes>"
      ]
     },
     "metadata": {
      "needs_background": "light"
     },
     "output_type": "display_data"
    },
    {
     "data": {
      "image/png": "[encoded data removed]",
      "text/plain": [
       "<Figure size 50.4x50.4 with 1 Axes>"
      ]
     },
     "metadata": {
      "needs_background": "light"
     },
     "output_type": "display_data"
    },
    {
     "data": {
      "image/png": "[encoded data removed]",
      "text/plain": [
       "<Figure size 50.4x50.4 with 1 Axes>"
      ]
     },
     "metadata": {
      "needs_background": "light"
     },
     "output_type": "display_data"
    },
    {
     "data": {
      "image/png": "[encoded data removed]",
      "text/plain": [
       "<Figure size 50.4x50.4 with 1 Axes>"
      ]
     },
     "metadata": {
      "needs_background": "light"
     },
     "output_type": "display_data"
    },
    {
     "data": {
      "image/png": "[encoded data removed]",
      "text/plain": [
       "<Figure size 50.4x50.4 with 1 Axes>"
      ]
     },
     "metadata": {
      "needs_background": "light"
     },
     "output_type": "display_data"
    },
    {
     "data": {
      "image/png": "[encoded data removed]",
      "text/plain": [
       "<Figure size 50.4x50.4 with 1 Axes>"
      ]
     },
     "metadata": {
      "needs_background": "light"
     },
     "output_type": "display_data"
    },
    {
     "data": {
      "image/png": "[encoded data removed]",
      "text/plain": [
       "<Figure size 50.4x50.4 with 1 Axes>"
      ]
     },
     "metadata": {
      "needs_background": "light"
     },
     "output_type": "display_data"
    },
    {
     "data": {
      "image/png": "[encoded data removed]",
      "text/plain": [
       "<Figure size 50.4x50.4 with 1 Axes>"
      ]
     },
     "metadata": {
      "needs_background": "light"
     },
     "output_type": "display_data"
    },
    {
     "data": {
      "image/png": "[encoded data removed]",
      "text/plain": [
       "<Figure size 50.4x50.4 with 1 Axes>"
      ]
     },
     "metadata": {
      "needs_background": "light"
     },
     "output_type": "display_data"
    },
    {
     "data": {
      "image/png": "[encoded data removed]",
      "text/plain": [
       "<Figure size 50.4x50.4 with 1 Axes>"
      ]
     },
     "metadata": {
      "needs_background": "light"
     },
     "output_type": "display_data"
    },
    {
     "data": {
      "image/png": "[encoded data removed]",
      "text/plain": [
       "<Figure size 50.4x50.4 with 1 Axes>"
      ]
     },
     "metadata": {
      "needs_background": "light"
     },
     "output_type": "display_data"
    },
    {
     "data": {
      "image/png": "[encoded data removed]",
      "text/plain": [
       "<Figure size 50.4x50.4 with 1 Axes>"
      ]
     },
     "metadata": {
      "needs_background": "light"
     },
     "output_type": "display_data"
    },
    {
     "data": {
      "image/png": "[encoded data removed]",
      "text/plain": [
       "<Figure size 50.4x50.4 with 1 Axes>"
      ]
     },
     "metadata": {
      "needs_background": "light"
     },
     "output_type": "display_data"
    },
    {
     "data": {
      "image/png": "[encoded data removed]",
      "text/plain": [
       "<Figure size 50.4x50.4 with 1 Axes>"
      ]
     },
     "metadata": {
      "needs_background": "light"
     },
     "output_type": "display_data"
    },
    {
     "data": {
      "image/png": "[encoded data removed]",
      "text/plain": [
       "<Figure size 50.4x50.4 with 1 Axes>"
      ]
     },
     "metadata": {
      "needs_background": "light"
     },
     "output_type": "display_data"
    },
    {
     "data": {
      "image/png": "[encoded data removed]",
      "text/plain": [
       "<Figure size 50.4x50.4 with 1 Axes>"
      ]
     },
     "metadata": {
      "needs_background": "light"
     },
     "output_type": "display_data"
    },
    {
     "data": {
      "image/png": "[encoded data removed]",
      "text/plain": [
       "<Figure size 50.4x50.4 with 1 Axes>"
      ]
     },
     "metadata": {
      "needs_background": "light"
     },
     "output_type": "display_data"
    },
    {
     "data": {
      "image/png": "[encoded data removed]",
      "text/plain": [
       "<Figure size 50.4x50.4 with 1 Axes>"
      ]
     },
     "metadata": {
      "needs_background": "light"
     },
     "output_type": "display_data"
    },
    {
     "name": "stdout",
     "output_type": "stream",
     "text": [
      "-/-/-/-/-/-/-/-/-/-/-/-/-/\n",
      "Conjunto:  test\n"
     ]
    },
    {
     "data": {
      "image/png": "[encoded data removed]",
      "text/plain": [
       "<Figure size 50.4x50.4 with 1 Axes>"
      ]
     },
     "metadata": {
      "needs_background": "light"
     },
     "output_type": "display_data"
    },
    {
     "data": {
      "image/png": "[encoded data removed]",
      "text/plain": [
       "<Figure size 50.4x50.4 with 1 Axes>"
      ]
     },
     "metadata": {
      "needs_background": "light"
     },
     "output_type": "display_data"
    },
    {
     "data": {
      "image/png": "[encoded data removed]",
      "text/plain": [
       "<Figure size 50.4x50.4 with 1 Axes>"
      ]
     },
     "metadata": {
      "needs_background": "light"
     },
     "output_type": "display_data"
    },
    {
     "data": {
      "image/png": "[encoded data removed]",
      "text/plain": [
       "<Figure size 50.4x50.4 with 1 Axes>"
      ]
     },
     "metadata": {
      "needs_background": "light"
     },
     "output_type": "display_data"
    },
    {
     "data": {
      "image/png": "[encoded data removed]",
      "text/plain": [
       "<Figure size 50.4x50.4 with 1 Axes>"
      ]
     },
     "metadata": {
      "needs_background": "light"
     },
     "output_type": "display_data"
    },
    {
     "data": {
      "image/png": "[encoded data removed]",
      "text/plain": [
       "<Figure size 50.4x50.4 with 1 Axes>"
      ]
     },
     "metadata": {
      "needs_background": "light"
     },
     "output_type": "display_data"
    },
    {
     "data": {
      "image/png": "[encoded data removed]",
      "text/plain": [
       "<Figure size 50.4x50.4 with 1 Axes>"
      ]
     },
     "metadata": {
      "needs_background": "light"
     },
     "output_type": "display_data"
    },
    {
     "data": {
      "image/png": "[encoded data removed]",
      "text/plain": [
       "<Figure size 50.4x50.4 with 1 Axes>"
      ]
     },
     "metadata": {
      "needs_background": "light"
     },
     "output_type": "display_data"
    },
    {
     "data": {
      "image/png": "[encoded data removed]",
      "text/plain": [
       "<Figure size 50.4x50.4 with 1 Axes>"
      ]
     },
     "metadata": {
      "needs_background": "light"
     },
     "output_type": "display_data"
    },
    {
     "data": {
      "image/png": "[encoded data removed]",
      "text/plain": [
       "<Figure size 50.4x50.4 with 1 Axes>"
      ]
     },
     "metadata": {
      "needs_background": "light"
     },
     "output_type": "display_data"
    },
    {
     "data": {
      "image/png": "[encoded data removed]",
      "text/plain": [
       "<Figure size 50.4x50.4 with 1 Axes>"
      ]
     },
     "metadata": {
      "needs_background": "light"
     },
     "output_type": "display_data"
    },
    {
     "data": {
      "image/png": "[encoded data removed]",
      "text/plain": [
       "<Figure size 50.4x50.4 with 1 Axes>"
      ]
     },
     "metadata": {
      "needs_background": "light"
     },
     "output_type": "display_data"
    },
    {
     "data": {
      "image/png": "[encoded data removed]",
      "text/plain": [
       "<Figure size 50.4x50.4 with 1 Axes>"
      ]
     },
     "metadata": {
      "needs_background": "light"
     },
     "output_type": "display_data"
    },
    {
     "data": {
      "image/png": "[encoded data removed]",
      "text/plain": [
       "<Figure size 50.4x50.4 with 1 Axes>"
      ]
     },
     "metadata": {
      "needs_background": "light"
     },
     "output_type": "display_data"
    },
    {
     "data": {
      "image/png": "[encoded data removed]",
      "text/plain": [
       "<Figure size 50.4x50.4 with 1 Axes>"
      ]
     },
     "metadata": {
      "needs_background": "light"
     },
     "output_type": "display_data"
    },
    {
     "data": {
      "image/png": "[encoded data removed]",
      "text/plain": [
       "<Figure size 50.4x50.4 with 1 Axes>"
      ]
     },
     "metadata": {
      "needs_background": "light"
     },
     "output_type": "display_data"
    },
    {
     "data": {
      "image/png": "[encoded data removed]",
      "text/plain": [
       "<Figure size 50.4x50.4 with 1 Axes>"
      ]
     },
     "metadata": {
      "needs_background": "light"
     },
     "output_type": "display_data"
    },
    {
     "data": {
      "image/png": "[encoded data removed]",
      "text/plain": [
       "<Figure size 50.4x50.4 with 1 Axes>"
      ]
     },
     "metadata": {
      "needs_background": "light"
     },
     "output_type": "display_data"
    },
    {
     "data": {
      "image/png": "[encoded data removed]",
      "text/plain": [
       "<Figure size 50.4x50.4 with 1 Axes>"
      ]
     },
     "metadata": {
      "needs_background": "light"
     },
     "output_type": "display_data"
    },
    {
     "data": {
      "image/png": "[encoded data removed]",
      "text/plain": [
       "<Figure size 50.4x50.4 with 1 Axes>"
      ]
     },
     "metadata": {
      "needs_background": "light"
     },
     "output_type": "display_data"
    },
    {
     "data": {
      "image/png": "[encoded data removed]",
      "text/plain": [
       "<Figure size 50.4x50.4 with 1 Axes>"
      ]
     },
     "metadata": {
      "needs_background": "light"
     },
     "output_type": "display_data"
    },
    {
     "data": {
      "image/png": "[encoded data removed]",
      "text/plain": [
       "<Figure size 50.4x50.4 with 1 Axes>"
      ]
     },
     "metadata": {
      "needs_background": "light"
     },
     "output_type": "display_data"
    },
    {
     "data": {
      "image/png": "[encoded data removed]",
      "text/plain": [
       "<Figure size 50.4x50.4 with 1 Axes>"
      ]
     },
     "metadata": {
      "needs_background": "light"
     },
     "output_type": "display_data"
    },
    {
     "data": {
      "image/png": "[encoded data removed]",
      "text/plain": [
       "<Figure size 50.4x50.4 with 1 Axes>"
      ]
     },
     "metadata": {
      "needs_background": "light"
     },
     "output_type": "display_data"
    },
    {
     "data": {
      "image/png": "[encoded data removed]",
      "text/plain": [
       "<Figure size 50.4x50.4 with 1 Axes>"
      ]
     },
     "metadata": {
      "needs_background": "light"
     },
     "output_type": "display_data"
    },
    {
     "data": {
      "image/png": "[encoded data removed]",
      "text/plain": [
       "<Figure size 50.4x50.4 with 1 Axes>"
      ]
     },
     "metadata": {
      "needs_background": "light"
     },
     "output_type": "display_data"
    },
    {
     "data": {
      "image/png": "[encoded data removed]",
      "text/plain": [
       "<Figure size 50.4x50.4 with 1 Axes>"
      ]
     },
     "metadata": {
      "needs_background": "light"
     },
     "output_type": "display_data"
    },
    {
     "data": {
      "image/png": "[encoded data removed]",
      "text/plain": [
       "<Figure size 50.4x50.4 with 1 Axes>"
      ]
     },
     "metadata": {
      "needs_background": "light"
     },
     "output_type": "display_data"
    },
    {
     "data": {
      "image/png": "[encoded data removed]",
      "text/plain": [
       "<Figure size 50.4x50.4 with 1 Axes>"
      ]
     },
     "metadata": {
      "needs_background": "light"
     },
     "output_type": "display_data"
    },
    {
     "data": {
      "image/png": "[encoded data removed]",
      "text/plain": [
       "<Figure size 50.4x50.4 with 1 Axes>"
      ]
     },
     "metadata": {
      "needs_background": "light"
     },
     "output_type": "display_data"
    }
   ],
   "source": [
    "from itertools import chain\n",
    "from collections import defaultdict\n",
    "\n",
    "label_data = defaultdict(list)\n",
    "for k, v in chain(label.items(), data.items()):\n",
    "    label_data[k].append(v)\n",
    " \n",
    "#print(label_data.keys())\n",
    "#print(label_data['train'][0])\n",
    "#print(label_data['train'][0][0])\n",
    "#print(len(label_data['train'][1][0]))\n",
    "\n",
    "for clave, valor in label_data.items():\n",
    "    print(\"-/-/-/-/-/-/-/-/-/-/-/-/-/\")\n",
    "    print('Conjunto: ', clave)\n",
    "\n",
    "    for i in range(len(valor[0])):\n",
    "        ver_letra(valor[1][i], label_real(valor[0][i]))"
   ]
  },
  {
   "cell_type": "markdown",
   "metadata": {},
   "source": [
    "Finally, let's save the data for later reuse:"
   ]
  },
  {
   "cell_type": "code",
   "execution_count": 14,
   "metadata": {},
   "outputs": [],
   "source": [
    "pickle_file = os.path.join(data_root, 'notMNIST.pickle')\n",
    "\n",
    "try:\n",
    "  f = open(pickle_file, 'wb')\n",
    "  save = {\n",
    "    'train_dataset': train_dataset,\n",
    "    'train_labels': train_labels,\n",
    "    'valid_dataset': valid_dataset,\n",
    "    'valid_labels': valid_labels,\n",
    "    'test_dataset': test_dataset,\n",
    "    'test_labels': test_labels,\n",
    "    }\n",
    "  pickle.dump(save, f, pickle.HIGHEST_PROTOCOL)\n",
    "  f.close()\n",
    "except Exception as e:\n",
    "  print('Unable to save data to', pickle_file, ':', e)\n",
    "  raise"
   ]
  },
  {
   "cell_type": "code",
   "execution_count": 15,
   "metadata": {},
   "outputs": [
    {
     "name": "stdout",
     "output_type": "stream",
     "text": [
      "Compressed pickle size: 219800502\n"
     ]
    }
   ],
   "source": [
    "statinfo = os.stat(pickle_file)\n",
    "print('Compressed pickle size:', statinfo.st_size)"
   ]
  },
  {
   "cell_type": "markdown",
   "metadata": {},
   "source": [
    "# Problem 5\n",
    "By construction, this dataset might contain a lot of overlapping samples, including training data that's also contained in the validation and test set! Overlap between training and test can skew the results if you expect to use your model in an environment where there is never an overlap, but are actually ok if you expect to see training samples recur when you use it. Measure how much overlap there is between training, validation and test samples.\n",
    "\n",
    "Optional questions:\n",
    "\n",
    "What about near duplicates between datasets? (images that are almost identical)\n",
    "Create a sanitized validation and test set, and compare your accuracy on those in subsequent assignments."
   ]
  },
  {
   "cell_type": "code",
   "execution_count": 4,
   "metadata": {},
   "outputs": [
    {
     "name": "stdout",
     "output_type": "stream",
     "text": [
      "Deserializando C:/Users/Luis/Documents/Ciencia de Datos/DatasetDeeplearnig/notMNIST.pickle.\n",
      "train_dataset cant:  50000\n",
      "train_labels cant:  50000\n",
      "valid_dataset cant:  10000\n",
      "valid_labels cant:  10000\n",
      "test_dataset cant:  10000\n",
      "test_labels cant:  10000\n"
     ]
    }
   ],
   "source": [
    "# leer archivo guardado previamente\n",
    "dataset = maybe_unpickle(data_root, \"notMNIST.pickle\")\n",
    "\n",
    "for k, v in dataset.items():\n",
    "    print(k, 'cant: ', len(v))\n",
    "\n"
   ]
  },
  {
   "cell_type": "code",
   "execution_count": 5,
   "metadata": {},
   "outputs": [
    {
     "name": "stdout",
     "output_type": "stream",
     "text": [
      "train_dataset 5000\n",
      "valid_dataset 1000\n",
      "test_dataset 1000\n"
     ]
    }
   ],
   "source": [
    "# para ello se usara una funcion hash para cada imagen\n",
    "\n",
    "import imagehash\n",
    "from PIL import Image\n",
    "\n",
    "# para la letra a\n",
    "# hacerlo x letra para reducir tamaño en memoria\n",
    "\n",
    "class Letra:\n",
    "    def __init__(self, cod):\n",
    "        self.__cod = cod\n",
    "        self.__letra = {}\n",
    "        self.__dat = {'train_labels': 'train_dataset',\n",
    "                      'valid_labels': 'valid_dataset',\n",
    "                      'test_labels': 'test_dataset'}\n",
    "        self.__agregar(self.__dat)\n",
    "        \n",
    "    def __agregar(self, grupo):\n",
    "        for lab_muestra, dat_muestra in grupo.items():\n",
    "            self.__letra[dat_muestra] = [x for x in range(len(dataset[lab_muestra])) if dataset[lab_muestra][x]==self.__cod]\n",
    "        \n",
    "    \n",
    "    @property\n",
    "    def letra(self):\n",
    "        return self.__letra\n",
    "        \n",
    "\n",
    "aes = Letra(0)\n",
    "\n",
    "letra = aes.letra\n",
    "\n",
    "#compare(letra[train_dataset], letra[valid_dataset])\n",
    "\n",
    "for x, y in letra.items():\n",
    "    print(x, len(y))\n",
    "\n",
    "class Imagen:\n",
    "    def __init__(self, matrix):\n",
    "        self.__matrix = matrix\n",
    "        self.__byteImgIO = io.BytesIO() # almacenar imagen en memoria ram        \n",
    "        self.__imgn = ver_letra(matrix, '', True)\n",
    "        plt.savefig(self.__byteImgIO, format = 'png')\n",
    "        plt.close('all')\n",
    "        self.__byteImgIO.seek(0)\n",
    "        self.__img12 = self.__byteImgIO.read()\n",
    "        self.__dataBytesIO = io.BytesIO(self.__img12)\n",
    "        self.__img = Image.open(self.__dataBytesIO)\n",
    "        self.__hash01 = imagehash.phash(self.__img)\n",
    "        self.__img.close()\n",
    "        \n",
    "    @property\n",
    "    def hash01(self):\n",
    "        return self.__hash01\n",
    "    \n",
    "    def __del__(self):\n",
    "        self.__hash01 = None\n",
    "        self.__byteImgIO = None\n",
    "        self.__dataBytesIO = None\n",
    "        \n",
    "def compare(x, grup):\n",
    "    img_01  = Imagen(dataset['train_dataset'][x])\n",
    "    hash_01 = img_01.hash01\n",
    "    del img_01\n",
    "    \n",
    "    img_02 = np.array([Imagen(dataset[grup][y]) for y in letra[grup]])\n",
    "    hash_02 = np.array([(hash_01-img_02[i].hash01)/len(hash_01.hash)**2 for i in range(len(letra[grup]))])\n",
    "    img_02 = None\n",
    "\n",
    "    \n",
    "    indice = [i for i in range(len(hash_02)) if hash_02[i] > .05]  # lo que se va borrar\n",
    "    res = np.delete(hash_02, indice)  # valor del % de diferencia de hash significativo iguales\n",
    "    desy = np.delete(letra[grup], indice)  # indice de imagen en grupo de comparacion\n",
    "    orix = np.ones(len(res), dtype = int) * x  # constante imagen de base a comparar con grupo\n",
    "    \n",
    "    resultado = [[orix[i], desy[i], res[i]] for i in range(len(orix))]\n",
    "    \n",
    "    return res\n",
    "    \n",
    "    "
   ]
  },
  {
   "cell_type": "code",
   "execution_count": 6,
   "metadata": {},
   "outputs": [
    {
     "name": "stdout",
     "output_type": "stream",
     "text": [
      "Comparando: 2, 7, 11, 23, ============================\n",
      "0\n",
      "Wall time: 1min 47s\n"
     ]
    }
   ],
   "source": [
    "%%time\n",
    "i = 0\n",
    "pares_iguales_parecidos = []\n",
    "\n",
    "print('Comparando: ', end='')\n",
    "\n",
    "for x in letra['train_dataset']:\n",
    "    i += 1\n",
    "    print(x, end=', ')\n",
    "\n",
    "    resultado = compare(x, 'valid_dataset')\n",
    "\n",
    "    if len(resultado) > 0:\n",
    "        if len(pares_iguales_parecidos) == 0:\n",
    "            pares_iguales_parecidos = resultado\n",
    "        else:\n",
    "            pares_iguales_parecidos.append(resultado)\n",
    "    \n",
    "    if i>3: break # control para numero pequeño de muestra\n",
    "    \n",
    "print('============================')\n",
    "print(len(pares_iguales_parecidos))"
   ]
  },
  {
   "cell_type": "code",
   "execution_count": 36,
   "metadata": {},
   "outputs": [
    {
     "data": {
      "image/png": "[encoded data removed]",
      "text/plain": [
       "<Figure size 50.4x50.4 with 1 Axes>"
      ]
     },
     "metadata": {
      "needs_background": "light"
     },
     "output_type": "display_data"
    },
    {
     "data": {
      "image/png": "[encoded data removed]",
      "text/plain": [
       "<Figure size 50.4x50.4 with 1 Axes>"
      ]
     },
     "metadata": {
      "needs_background": "light"
     },
     "output_type": "display_data"
    },
    {
     "name": "stdout",
     "output_type": "stream",
     "text": [
      "83 489 0.03125\n",
      "============================\n"
     ]
    },
    {
     "data": {
      "image/png": "[encoded data removed]",
      "text/plain": [
       "<Figure size 50.4x50.4 with 1 Axes>"
      ]
     },
     "metadata": {
      "needs_background": "light"
     },
     "output_type": "display_data"
    },
    {
     "data": {
      "image/png": "[encoded data removed]",
      "text/plain": [
       "<Figure size 50.4x50.4 with 1 Axes>"
      ]
     },
     "metadata": {
      "needs_background": "light"
     },
     "output_type": "display_data"
    },
    {
     "name": "stdout",
     "output_type": "stream",
     "text": [
      "83 3522 0.03125\n",
      "============================\n"
     ]
    },
    {
     "data": {
      "image/png": "[encoded data removed]",
      "text/plain": [
       "<Figure size 50.4x50.4 with 1 Axes>"
      ]
     },
     "metadata": {
      "needs_background": "light"
     },
     "output_type": "display_data"
    },
    {
     "data": {
      "image/png": "[encoded data removed]",
      "text/plain": [
       "<Figure size 50.4x50.4 with 1 Axes>"
      ]
     },
     "metadata": {
      "needs_background": "light"
     },
     "output_type": "display_data"
    },
    {
     "name": "stdout",
     "output_type": "stream",
     "text": [
      "83 3637 0.03125\n",
      "============================\n"
     ]
    },
    {
     "data": {
      "image/png": "[encoded data removed]",
      "text/plain": [
       "<Figure size 50.4x50.4 with 1 Axes>"
      ]
     },
     "metadata": {
      "needs_background": "light"
     },
     "output_type": "display_data"
    },
    {
     "data": {
      "image/png": "[encoded data removed]",
      "text/plain": [
       "<Figure size 50.4x50.4 with 1 Axes>"
      ]
     },
     "metadata": {
      "needs_background": "light"
     },
     "output_type": "display_data"
    },
    {
     "name": "stdout",
     "output_type": "stream",
     "text": [
      "83 3902 0.03125\n",
      "============================\n"
     ]
    },
    {
     "data": {
      "image/png": "[encoded data removed]",
      "text/plain": [
       "<Figure size 50.4x50.4 with 1 Axes>"
      ]
     },
     "metadata": {
      "needs_background": "light"
     },
     "output_type": "display_data"
    },
    {
     "data": {
      "image/png": "[encoded data removed]",
      "text/plain": [
       "<Figure size 50.4x50.4 with 1 Axes>"
      ]
     },
     "metadata": {
      "needs_background": "light"
     },
     "output_type": "display_data"
    },
    {
     "name": "stdout",
     "output_type": "stream",
     "text": [
      "83 6982 0.03125\n",
      "============================\n"
     ]
    }
   ],
   "source": [
    "pares_iguales_parecidos = [\n",
    "    [83, 489, 0.03125],\n",
    "    [83, 3522, 0.03125],\n",
    "    [83, 3637, 0.03125],\n",
    "    [83, 3902, 0.03125],\n",
    "    [83, 6982, 0.03125]]\n",
    "\n",
    "for par in pares_iguales_parecidos:\n",
    "    indice, jndice, val = par[0], par[1], par[2]\n",
    "    ver_letra(dataset['train_dataset'][indice], label_real(dataset['train_labels'][indice]))\n",
    "    ver_letra(dataset['valid_dataset'][jndice], label_real(dataset['valid_labels'][jndice]))\n",
    "    print(indice, jndice, val)\n",
    "    print('============================')"
   ]
  },
  {
   "cell_type": "code",
   "execution_count": 15,
   "metadata": {
    "scrolled": false
   },
   "outputs": [
    {
     "name": "stdout",
     "output_type": "stream",
     "text": [
      "antes:  (1000, 28, 28)\n",
      "despues:  (1001, 784)\n"
     ]
    }
   ],
   "source": [
    "# esta celda es para almacenar pequeños frangmentos de un dataset muy grande\n",
    "# y procesar esos fragmentos en paralelo desde varios equipos en una red\n",
    "# en desarrollo xd para ejecutar compare(registro 0 contra los demas de 1\n",
    "# hasta fin)\n",
    "#print('train ds: ', len(dataset['train_dataset'][letra['train_dataset'][0]]))\n",
    "#print('valid ds: ', len(dataset['valid_dataset'][letra['valid_dataset']]))\n",
    "\n",
    "sub_ds = np.array(dataset['valid_dataset'][letra['valid_dataset']])\n",
    "print('antes: ', sub_ds.shape)\n",
    "# [letra['train_dataset'][0:1] en el caso particular de comparacion letra(0)\n",
    "sub_ds = np.insert(sub_ds, 0, dataset['train_dataset'][letra['train_dataset'][0:1]], axis = 0)\n",
    "\n",
    "# cambia dimension de tensor, aplana cada matriz 2d a 1d\n",
    "sub_ds = np.reshape(sub_ds, (sub_ds.shape[0], sub_ds.shape[1] * sub_ds.shape[2]))\n",
    "\n",
    "\n",
    "print('despues: ', sub_ds.shape)\n",
    "\n",
    "with open(data_root+\"datos.csv\", \"w\") as f:\n",
    "        for fila in sub_ds:\n",
    "            f.write(\"\\t\".join(str(d) for d in fila) + \"\\n\")\n",
    "\n",
    "\n",
    "\n",
    "# creo q es por aqui: https://es.ourcodeworld.com/articulos/leer/93/\n",
    "#                     como-acceder-a-un-servidor-via-sftp-usando-pysftp-en-python\n",
    "\n",
    "# esta si es !\n",
    "# filename, _ = urlretrieve(url + filename, dest_filename, reporthook=download_progress_hook)\n"
   ]
  },
  {
   "cell_type": "code",
   "execution_count": 35,
   "metadata": {
    "scrolled": false
   },
   "outputs": [],
   "source": [
    "# objetivo: revisar si hay imagenes iguales o muy parecidas desde un cliente (otra compu\n",
    "# en colaborativo para reducir costo en tiempo de procesamiento)\n",
    "\n",
    "import csv\n",
    "\n",
    "origen = 'http://192.168.35.69/datos.csv'\n",
    "\n",
    "destino = 'C:/Users/Luis/Documents/Ciencia de Datos/DatasetDeeplearnig/datos.csv'\n",
    "\n",
    "datos, _ = urlretrieve(origen, destino)\n",
    "\n",
    "with open(destino) as File:\n",
    "    reader = csv.reader(File, delimiter='\\t', quotechar='\\t',\n",
    "                        quoting=csv.QUOTE_MINIMAL)\n",
    "    i = 0\n",
    "    \n",
    "    imagen = []\n",
    "    for row in reader:\n",
    "        imagen.append([float(x) for x in row])\n",
    "\n",
    "imagen = np.array(imagen)\n",
    "imagen = np.reshape(imagen, (imagen.shape[0], 28, 28))\n"
   ]
  },
  {
   "cell_type": "code",
   "execution_count": 43,
   "metadata": {},
   "outputs": [
    {
     "data": {
      "image/png": "[encoded data removed]",
      "text/plain": [
       "<Figure size 50.4x50.4 with 1 Axes>"
      ]
     },
     "metadata": {
      "needs_background": "light"
     },
     "output_type": "display_data"
    },
    {
     "data": {
      "text/plain": [
       "<matplotlib.image.AxesImage at 0xbc65f70>"
      ]
     },
     "execution_count": 43,
     "metadata": {},
     "output_type": "execute_result"
    }
   ],
   "source": [
    "ver_letra(imagen[506])"
   ]
  },
  {
   "cell_type": "markdown",
   "metadata": {},
   "source": [
    "# Problem 6\n",
    "Let's get an idea of what an off-the-shelf classifier can give you on this data. It's always good to check that there is something to learn, and that it's a problem that is not so trivial that a canned solution solves it.\n",
    "\n",
    "Train a simple model on this data using 50, 100, 1000 and 5000 training samples. Hint: you can use the LogisticRegression model from sklearn.linear_model.\n",
    "\n",
    "Optional question: train an off-the-shelf model on all the data!"
   ]
  },
  {
   "cell_type": "code",
   "execution_count": 31,
   "metadata": {},
   "outputs": [
    {
     "data": {
      "image/png": "[encoded data removed]",
      "text/plain": [
       "<Figure size 720x720 with 50 Axes>"
      ]
     },
     "metadata": {},
     "output_type": "display_data"
    },
    {
     "name": "stdout",
     "output_type": "stream",
     "text": [
      "(1000, 28, 28)\n"
     ]
    }
   ],
   "source": [
    "# Train a simple model on this data using 50 training samples.\n",
    "#\n",
    "# primer paso: seleccionar las 50 muestras, usando funciones q ya se elaboraron\n",
    "# las n muestras se obtendran proporcionales para cada valor de etiqueta, n/10 \n",
    "\n",
    "def muestra(datos, n):\n",
    "    elementos = np.random.choice(datos.shape[0], n, replace = False)\n",
    "    return dataset['train_labels'][elementos], datos[elementos]\n",
    "    \n",
    "    \n",
    "etiq, datos = muestra(dataset['train_dataset'], 1000)\n",
    "\n",
    "plt.style.use('grayscale')\n",
    "\n",
    "_, axarr = plt.subplots(10,5,figsize=(10,10))\n",
    "\n",
    "for i in range(10):\n",
    "    for j in range(5):\n",
    "        axarr[i,j].imshow(datos[j + (5 * i)])\n",
    "        axarr[i,j].axis('off') \n",
    "        axarr[i, j].set_title(label_real(etiq[j + (5 * i)]))\n",
    "\n",
    "plt.subplots_adjust(hspace=0.5)\n",
    "\n",
    "plt.show()\n",
    "\n",
    "print(datos.shape)"
   ]
  },
  {
   "cell_type": "code",
   "execution_count": 32,
   "metadata": {},
   "outputs": [
    {
     "name": "stdout",
     "output_type": "stream",
     "text": [
      "score =  0.7482517482517482\n",
      "[[ 7  1  0  0  0  0  0  2  0  2]\n",
      " [ 0 19  0  2  0  1  1  0  0  0]\n",
      " [ 0  0 14  0  0  1  1  2  1  0]\n",
      " [ 0  1  0 11  0  0  1  0  0  0]\n",
      " [ 2  0  0  0  8  1  1  0  0  0]\n",
      " [ 1  0  0  0  0 11  0  2  0  1]\n",
      " [ 0  0  2  0  0  0  3  0  1  0]\n",
      " [ 0  0  0  0  0  0  0 10  0  1]\n",
      " [ 2  1  0  0  1  1  1  1 13  0]\n",
      " [ 1  0  0  0  0  0  0  0  0 11]]\n"
     ]
    }
   ],
   "source": [
    "# fuente: https://towardsdatascience.com/logistic-regression-using-python-sklearn-numpy-\n",
    "# mnist-handwriting-recognition-matplotlib-a6b31e2b166a\n",
    "\n",
    "# cambia dimension de tensor, aplana cada matriz 2d a 1d\n",
    "datos_ref = np.reshape(datos, (datos.shape[0], datos.shape[1] * datos.shape[2]))\n",
    "\n",
    "train_img, test_img, train_lbl, test_lbl = train_test_split(\n",
    " datos_ref, etiq, test_size=1/7.0, random_state=0)\n",
    "\n",
    "logisticRegr = LogisticRegression(solver = 'lbfgs', max_iter = 500, multi_class = 'multinomial')\n",
    "\n",
    "logisticRegr.fit(train_img, train_lbl)\n",
    "\n",
    "# Returns a NumPy Array\n",
    "# Predict for One Observation (image)\n",
    "logisticRegr.predict(test_img[0].reshape(1,-1))\n",
    "\n",
    "# Predict for Multiple Observations (images) at Once\n",
    "\n",
    "logisticRegr.predict(test_img[0:10])\n",
    "\n",
    "#Make predictions on entire test data\n",
    "\n",
    "predictions = logisticRegr.predict(test_img)\n",
    "\n",
    "# Measuring Model Performance\n",
    "\n",
    "score = logisticRegr.score(test_img, test_lbl)\n",
    "print('score = ', score)\n",
    "\n",
    "cm = metrics.confusion_matrix(test_lbl, predictions)\n",
    "print(cm)"
   ]
  },
  {
   "cell_type": "code",
   "execution_count": 33,
   "metadata": {},
   "outputs": [
    {
     "name": "stdout",
     "output_type": "stream",
     "text": [
      "score =  0.8342 \n",
      "\n",
      "[[838  17   1   4   4  27  18  47  17  27]\n",
      " [ 20 811   4  28  23  16  22  19  37  20]\n",
      " [  7   8 876   4  36   3  38   1  16  11]\n",
      " [  6  37   5 851   6  16  16   6  15  42]\n",
      " [  3  23  31   5 789  33  37  15  48  16]\n",
      " [  6   3   8   6  43 870   8   9  22  25]\n",
      " [ 19  28  68   8  18  17 788  12  21  21]\n",
      " [ 28  12   4   8  20  18  18 849  21  22]\n",
      " [ 22  19   6  10  10  16  16  12 818  71]\n",
      " [  7   8   5  19   6  20  18   4  61 852]]\n"
     ]
    }
   ],
   "source": [
    "total_muestras = np.reshape(dataset['test_dataset'], (dataset['test_dataset'].shape[0],\n",
    "                                                     dataset['test_dataset'].shape[1] *\n",
    "                                                     dataset['test_dataset'].shape[2]))\n",
    "predictions = logisticRegr.predict(total_muestras)\n",
    "\n",
    "score = logisticRegr.score(total_muestras, dataset['test_labels'])\n",
    "\n",
    "print('score = ', score, '\\n')\n",
    "\n",
    "cm = metrics.confusion_matrix(dataset['test_labels'], predictions)\n",
    "print(cm)"
   ]
  },
  {
   "cell_type": "code",
   "execution_count": 56,
   "metadata": {},
   "outputs": [
    {
     "name": "stdout",
     "output_type": "stream",
     "text": [
      "2\n"
     ]
    },
    {
     "data": {
      "image/png": "[encoded data removed]",
      "text/plain": [
       "<Figure size 50.4x50.4 with 1 Axes>"
      ]
     },
     "metadata": {},
     "output_type": "display_data"
    },
    {
     "data": {
      "text/plain": [
       "<matplotlib.image.AxesImage at 0xb37f250>"
      ]
     },
     "execution_count": 56,
     "metadata": {},
     "output_type": "execute_result"
    }
   ],
   "source": [
    "pred = logisticRegr.predict(total_muestras[151].reshape(1, -1))\n",
    "print(pred[0])\n",
    "\n",
    "letrica = np.reshape(total_muestras[151], (28,  28))\n",
    "\n",
    "\n",
    "ver_letra(letrica, label_real(pred[0]))\n",
    "\n"
   ]
  }
 ],
 "metadata": {
  "kernelspec": {
   "display_name": "Python 3",
   "language": "python",
   "name": "python3"
  },
  "language_info": {
   "codemirror_mode": {
    "name": "ipython",
    "version": 3
   },
   "file_extension": ".py",
   "mimetype": "text/x-python",
   "name": "python",
   "nbconvert_exporter": "python",
   "pygments_lexer": "ipython3",
   "version": "3.6.6"
  }
 },
 "nbformat": 4,
 "nbformat_minor": 2
}
